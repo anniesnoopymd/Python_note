{
 "cells": [
  {
   "cell_type": "code",
   "execution_count": 3,
   "metadata": {},
   "outputs": [],
   "source": [
    "import requests\n",
    "from bs4 import BeautifulSoup as bs"
   ]
  },
  {
   "cell_type": "code",
   "execution_count": 43,
   "metadata": {},
   "outputs": [],
   "source": [
    "url = 'https://mojim.com/twy118871x16x1.htm'\n",
    "res = requests.get(url)"
   ]
  },
  {
   "cell_type": "code",
   "execution_count": 44,
   "metadata": {},
   "outputs": [
    {
     "data": {
      "text/plain": [
       "<Response [200]>"
      ]
     },
     "execution_count": 44,
     "metadata": {},
     "output_type": "execute_result"
    }
   ],
   "source": [
    "res"
   ]
  },
  {
   "cell_type": "code",
   "execution_count": 45,
   "metadata": {},
   "outputs": [],
   "source": [
    "content = res.text"
   ]
  },
  {
   "cell_type": "code",
   "execution_count": 47,
   "metadata": {},
   "outputs": [],
   "source": [
    "soup = bs(content, 'html.parser')"
   ]
  },
  {
   "cell_type": "code",
   "execution_count": 48,
   "metadata": {},
   "outputs": [
    {
     "data": {
      "text/plain": [
       "﻿﻿﻿<!DOCTYPE html PUBLIC \"-//W3C//DTD XHTML 1.0 Transitional//EN\" \"http://www.w3.org/TR/xhtml1/DTD/xhtml1-transitional.dtd\">\n",
       "\n",
       "<html xmlns=\"http://www.w3.org/1999/xhtml\" xmlns:fb=\"http://www.facebook.com/2008/fbml\" xmlns:og=\"http://ogp.me/ns#\">\n",
       "<head><meta content=\"text/html; charset=utf-8\" http-equiv=\"Content-Type\"/>\n",
       "<title>Believer 歌詞 Imagine Dragons ※ Mojim.com</title>\n",
       "<meta content=\"Believer, 歌詞 Believer, Imagine Dragons, 歌詞, Believer\" name=\"keywords\"/>\n",
       "<meta content=\"Believer  作詞：Dan Reynolds 作曲：Dan Reynolds  First things first I'ma say all the words inside my head I'm fired up and tired of the way that things have been, oh-\" name=\"description\"/>\n",
       "<meta content=\"all\" name=\"robots\"/>\n",
       "<meta content=\"GLOBAL\" name=\"distribution\"/>\n",
       "<meta content=\"general\" name=\"rating\"/>\n",
       "<meta content=\"MOJIM\" property=\"og:site_name\"/>\n",
       "<meta content=\"http://mojim.com/logo-fb-t.jpg\" property=\"og:image\"/><meta content=\"http://mojim.com/logo-fb-g.jpg\" property=\"og:image\"/><meta content=\"http://mojim.com/logo-fb.jpg\" property=\"og:image\"/>\n",
       "<meta content=\"image/jpg\" property=\"og:image:type\"/>\n",
       "<meta content=\"200\" property=\"og:image:width\"/>\n",
       "<meta content=\"200\" property=\"og:image:height\"/>\n",
       "<meta content=\"Believer 歌詞 Imagine Dragons ※ Mojim.com\" property=\"og:title\"/>\n",
       "<meta content=\"Believer  作詞：Dan Reynolds 作曲：Dan Reynolds  First things first I'ma say all the words inside my head I'm fired up and tired of the way that things have been, oh-\" property=\"og:description\"/>\n",
       "<meta content=\"http://mojim.com/twy118871x16x1.htm\" property=\"og:url\"/>\n",
       "<meta content=\"website\" property=\"og:type\"/>\n",
       "<link href=\"/favicon-t.ico\" rel=\"SHORTCUT ICON\"/>\n",
       "<link href=\"https://mojim.com/twy118871x16x1.htm\" hreflang=\"zh-Hant\" rel=\"alternate\">\n",
       "<link href=\"https://mojim.com/cny118871x16x1.htm\" hreflang=\"zh-Hans\" rel=\"alternate\"/>\n",
       "<link href=\"https://mojim.com/jpy118871x16x1.htm\" hreflang=\"ja\" rel=\"alternate\"/>\n",
       "<link href=\"https://mojim.com/usy118871x16x1.htm\" hreflang=\"en\" rel=\"alternate\"/>\n",
       "<base target=\"_self\"/>\n",
       "<meta content=\"width=device-width, initial-scale=1.0, maximum-scale=10.0, user-scalable=yes\" name=\"viewport\"/>\n",
       "<script>\n",
       "var U2x1=\"?h=118871x16x1\";var U2x2=\"video\";var U2x9=\"Imagine+Dragons+Believer\";var U2x9num=\"0\";var U2xform=\"0\";var U2xembed=\"\";var U2x5a=\"\";var U2x5b=\"\";var U2xEE=\"a22935c06aa4\";\n",
       "var LGx0=\"tw\";var LGx1=\"t\";var LGx2=\"y\";var U2_v3z=\"\";\n",
       "var AdxUU = \",f00ytop01,f00yBelow01,f00y01,f00y02,f00y99g,\";var AdxPP = \"1\";var QRzA=\"Imagine Dragons<br />Believer\";var RAzA = \"1773\";var MMsMsM = \"\";var runMM = \"63feec\";\n",
       "</script>\n",
       "<script src=\"/js_home_LG.js\" type=\"text/javascript\"></script>\n",
       "<script src=\"/js_home_LG_del.js\" type=\"text/javascript\"></script>\n",
       "<script src=\"/js_home_iU2.js?20190425\" type=\"text/javascript\"></script>\n",
       "<script>var songname=\"Believer\";var commentTG=\"t\";var comNum=\"2\";var lyA=\"1\";</script>\n",
       "<script src=\"/js_home_icss.js\" type=\"text/javascript\"></script>\n",
       "</link></head>\n",
       "<body>\n",
       "<style type=\"text/css\">\n",
       "span.Ac1{color:#885A28;}\n",
       "a.tab1,a.tab2{width:80px;float:left;font-size:14pt; margin:0;line-height:25px;text-indent:3px;text-align:center; padding:5px 10px 5px 10px;}\n",
       "a.tab1{border-color:#E0C5A3; border-style:solid;border-width:1px;background-color: #F0EAE1;}\n",
       "a.tab2{border-color:#E0C5A3; border-style:solid;border-width:1px;border-bottom:none;font-weight: bold;}\n",
       "</style>\n",
       "<div id=\"frame\">\n",
       "<div id=\"Ta1\">\n",
       "<span id=\"aaCss1\"></span>\n",
       "<a href=\"/twznew.htm\" target=\"_top\" title=\"魔鏡歌詞網\"><img alt=\"魔鏡歌詞網\" border=\"0\" src=\"/logo-t.jpg\" title=\"魔鏡歌詞網\"/></a>\n",
       "<span id=\"aaCss2\"></span>\n",
       "</div>\n",
       "<script type=\"text/javascript\">var aT0 = \"y\";var aT1 = \"Imagine Dragons\";var aT2 = \"0\";var aT3 = \"0\";var aT4 = \"0\";var MMsMsM = \"\";var aZxZ = \"e\";var aJPx = \"0\";</script>\n",
       "<script src=\"/js_home_iad.js?20171228\" type=\"text/javascript\"></script>\n",
       "<div id=\"Tb3\">\n",
       "<script>document.write(AT);</script>\n",
       "<div>\n",
       "<span itemscope=\"\" itemtype=\"http://data-vocabulary.org/Breadcrumb\">\n",
       "<a class=\"X3\" href=\"https://mojim.com/twznew.htm\" itemprop=\"url\" title=\"魔鏡歌詞網\">\n",
       "<span itemprop=\"title\">魔鏡歌詞網</span>\n",
       "</a> &gt;\n",
       "</span>\n",
       "<span itemscope=\"\" itemtype=\"http://data-vocabulary.org/Breadcrumb\"><a class=\"X3\" href=\"https://mojim.com/twze1.htm\" itemprop=\"url\" title=\"歐美歌手 列表\"><span itemprop=\"title\">歐美歌手</span></a> &gt; </span>\n",
       "<span itemscope=\"\" itemtype=\"http://data-vocabulary.org/Breadcrumb\"><a class=\"X3\" href=\"https://mojim.com/twh118871.htm\" itemprop=\"url\" title=\"Imagine Dragons 共收藏 34張專輯 203首歌詞\"><span itemprop=\"title\">Imagine Dragons</span></a> &gt; </span>\n",
       "<span itemscope=\"\" itemtype=\"http://data-vocabulary.org/Breadcrumb\"><a class=\"X3\" href=\"https://mojim.com/tw118871x16.htm\" itemprop=\"url\" title=\"Believer 歌詞 Imagine Dragons\"><span itemprop=\"title\">Believer</span></a> &gt; </span>\n",
       "<span itemscope=\"\" itemtype=\"http://data-vocabulary.org/Breadcrumb\"><a class=\"X3\" href=\"https://mojim.com/twy118871x16x1.htm\" itemprop=\"url\" title=\"Believer 歌詞 Imagine Dragons\"><span itemprop=\"title\">Believer</span></a></span>\n",
       "<br/>\n",
       "</div>\n",
       "<table border=\"0\" cellpadding=\"0\" cellspacing=\"0\" style=\"border-top: 1px solid #E0C5A3; border-left: 1px solid #E0C5A3; border-right: 1px solid #E0C5A3; border-bottom: 1px solid #E0C5A3; \" width=\"100%\">\n",
       "<tr>\n",
       "<td bgcolor=\"#E9DFD1\" colspan=\"6\" style=\"height:36px;\">\n",
       "<h1><a href=\"/twh118871.htm\" title=\"Imagine Dragons 共收藏 34張專輯 203首歌詞\">Imagine Dragons</a></h1>\n",
       "</td>\n",
       "</tr>\n",
       "<tr>\n",
       "<td>\n",
       "<div id=\"ss_y_tb3_0_div\" valign=\"top\" width=\"0\"><br/><script>document.write(f00y01);</script><script>document.write(f00y02);</script><hr color=\"#FFFFFF\" width=\"0\"/></div>\n",
       "<div id=\"ss_y_tb3_1\" valign=\"top\">\n",
       "<table width=\"0\"><tr><td>\n",
       "<dl class=\"tab0\">\n",
       "<dd><a class=\"tab2\" href=\"/twy118871x16x1.htm\" title=\"Believer 歌詞 Imagine Dragons\">歌詞</a></dd>\n",
       "<dd><a class=\"tab1\" href=\"/twh118871.htm\" title=\"Imagine Dragons 共收藏 34張專輯 203首歌詞\">專輯列表</a></dd>\n",
       "<dd><a class=\"tab1\" href=\"/twk118871xNews.htm\" title=\"Imagine Dragons 新聞\">新聞</a></dd>\n",
       "<dd><a class=\"tab1\" href=\"/twy118871x9999x9999.htm\" title=\"Imagine Dragons 歌手介紹\">歌手介紹</a></dd>\n",
       "<dd><a class=\"tab1\" href=\"https://mojim.net/tw_video_u2_.html?h=118871x16x1&amp;U2xE=a22935c06aa4&amp;U2xZ=1\" rel=\"nofollow\" style=\"width:110px;\" target=\"youtube\" title=\"Imagine Dragons 相關影音\"><nobr><img height=\"26\" src=\"/gif/favicon-youtube_144.png\" style=\"vertical-align:middle;\" width=\"26\"/>相關影音</nobr> </a></dd>\n",
       "</dl>\n",
       "<hr align=\"left\" color=\"#FFFFFF\" id=\"h1xx400\"/>\n",
       "<script>document.write(f00ytop01);</script>\n",
       "<div class=\"fsZ\" id=\"fsZ\">\n",
       "<dl><script>document.write(YYsT111);</script></dl>\n",
       "<dl class=\"fsZx1\" id=\"fsZx1\">\n",
       "Imagine Dragons\n",
       "<br/><br/>\n",
       "<dt class=\"fsZx2\" id=\"fsZx2\"> Believer</dt><dd class=\"fsZx3\" id=\"fsZx3\"><br/>作詞：Dan Reynolds<br/>作曲：Dan Reynolds<br/><br/>First things first<br/>I'ma say all the words inside my head<br/>I'm fired up and tired of the way that things have been, oh-ooh<br/>The way that things have been, oh-ooh<br/>Second thing second<br/>Don't you tell me what you think that I can be<br/>I'm the one at the sail, I'm the master of my sea, oh-ooh<br/>The master of my sea, oh-ooh<br/><br/>I was broken from a young age<br/>Taking my sulking to the masses<br/>Write down my poems for the few<br/>That looked at me took to me, shook to me, feeling me<br/>Singing from heart ache from the pain<br/>Take up my message from the veins<br/>Speaking my lesson from the brain<br/>Seeing the beauty through the...<br/><br/>Pain!<br/>You made me a, you made me a believer, believer<br/>Pain!<br/>You break me down, you build me up, believer, believer<br/>Pain!<br/>I let the bullets fly, oh let them rain<br/>My life, my love, my drive, it came from...<br/>Pain!<br/>You made me a, you made me a believer, believer<br/><br/>Third things third<br/>Send a prayer to the ones up above<br/>All the hate that you've heard has turned your spirit to a dove, oh-ooh<br/>Your spirit up above, oh-ooh<br/><br/>I was choking in the crowd<br/>Living my brain up in the cloud<br/>更多更詳盡歌詞 在 <a href=\"http://mojim.com\">※ Mojim.com　魔鏡歌詞網 </a><br/>Falling like ashes to the ground<br/>Hoping my feelings, they would drown<br/>But they never did, ever lived, ebbing and flowing<br/>Inhibited, limited<br/>Till it broke open and it rained down<br/>It rained down, like...<br/><br/>Pain!<br/>You made me a, you made me a believer, believer<br/>Pain!<br/>You break me down, you built me up, believer, believer<br/>Pain!<br/>I let the bullets fly, oh let them rain<br/>My life, my love, my drive, it came from...<br/>Pain!<br/>You made me a, you made me a believer, believer<br/><br/>Last things last<br/>By the grace of the fire and the flames<br/>You're the face of the future, the blood in my veins, oh-ooh<br/>The blood in my veins, oh-ooh<br/>But they never did, ever lived, ebbing and flowing<br/>Inhibited, limited<br/>Till it broke open and it rained down<br/>It rained down, like...<br/><br/>Pain!<br/>You made me a, you made me a believer, believer<br/>Pain!<br/>You break me down, you built me up, believer, believer<br/>Pain!<br/>I let the bullets fly, oh let them rain<br/>My life, my love, my drive, if came from...<br/>Pain!<br/>You made me a, you made me a believer, believer<br/><br/>\n",
       "</dd></dl>\n",
       "</div>\n",
       "<script>document.write(f00yBelow01);</script>\n",
       "<script>document.write(comAdd);</script>\n",
       "<br/><span class=\"username\">所有評論 ( 2 )</span><hr color=\"#E4E4E4\"/>\n",
       "<dl class=\"comment\" onmouseout=\"commentA(0,'1556094084')\" onmouseover=\"commentA(1,'1556094084')\">\n",
       "<dt>\n",
       "<span id=\"goodbad1556094084\" style=\"float: right;display:none\">\n",
       " #1 樓 \n",
       "<span id=\"goodfb1556094084\">\n",
       "<input class=\"goodfb\" onclick=\"postBadGood('goodfb',1556094084);\" type=\"text\" value=\"支持 [ 0 ]\"/>\n",
       "</span>\n",
       "<span id=\"badfb1556094084\">\n",
       "<input class=\"badfb\" onclick=\"postBadGood('badfb',1556094084);\" type=\"text\" value=\"反對 [ 0 ]\"/>\n",
       "</span>\n",
       "</span>\n",
       "<span class=\"username\">\n",
       "萧晗\n",
       "</span>\n",
       "</dt>\n",
       "<dd class=\"tgbf_box\">\n",
       "很好听 十分推荐 我都单曲循环来做事情，跑步\n",
       "</dd>\n",
       "</dl>\n",
       "<br/>\n",
       "<br/>\n",
       "<script>document.write(twBs6);</script>\n",
       "<br/>\n",
       "<dl>\n",
       "<dt style=\"text-align: center;\"><a class=\"homeA\" onclick=\"history.back();\"> 回上一頁 </a></dt>\n",
       "<dt style=\"text-align:center;\"><a href=\"/twznew.htm\"><font color=\"#00CC00\">Mojim.com<br/>魔鏡歌詞網</font></a></dt>\n",
       "</dl>\n",
       "</td></tr></table>\n",
       "</div>\n",
       "<div id=\"ss_y_tb3_2\" style=\"max-width:200px\" valign=\"top\" width=\"200px\">\n",
       "<br/>\n",
       "<dl><dt>\n",
       "<div class=\"fsYY001\" id=\"fsYY001\"><a href=\"/twh118871.htm\" title=\"Imagine Dragons 共收藏 34張專輯 203首歌詞\">Imagine Dragons</a><br/>Believer<br/><b>專輯歌曲</b><br/><span class=\"Ac1\">1.</span><a href=\"/twy118871x16x1.htm\" title=\"Believer 歌詞\"><font color=\"#990000\">Believer</font></a> (<a class=\"X3\" href=\"/twthx118871x16x1x1.htm\" target=\"_blank\" title=\"修改 【 Believer 】 歌詞 謝謝您\">修改</a>)<br/></div>\n",
       "</dt></dl>\n",
       "<hr class=\"hr1\" style=\"min-width: 150px;\"/>\n",
       "<div class=\"fsYY005\" id=\"fsYY005\">\n",
       "<a href=\"/twh118871.htm\" title=\"Imagine Dragons 共收藏 34張專輯 203首歌詞\">Imagine Dragons</a><br/>\n",
       "<b>熱門歌曲</b><br/>\n",
       "<span class=\"Ac1\">&gt; </span><a class=\"X3\" href=\"/twy118871x31x1.htm\" title=\"Natural 歌詞 Imagine Dragons\">Natural</a><br/><span class=\"Ac1\">&gt; </span><a class=\"X3\" href=\"/twy118871x2x2.htm\" title=\"Demons 歌詞 Imagine Dragons\">Demons</a><br/><span class=\"Ac1\">&gt; </span><a class=\"X3\" href=\"/twy118871x22x15.htm\" title=\"I'm So Sorry 歌詞 Imagine Dragons\">I'm So Sorry</a><br/><span class=\"Ac1\">&gt; </span><a class=\"X3\" href=\"/twy118871x34x1.htm\" title=\"Bad Liar 歌詞 Imagine Dragons\">Bad Liar</a><br/><span class=\"Ac1\">&gt; </span><a class=\"X3\" href=\"/twy118871x9x2.htm\" title=\"Tokyo 歌詞 Imagine Dragons\">Tokyo</a><br/><span class=\"Ac1\">&gt; </span><a class=\"X3\" href=\"/twy118871x5x3.htm\" title=\"Smoke And Mirrors 歌詞 Imagine Dragons\">Smoke And Mirrors</a><br/><span class=\"Ac1\">&gt; </span><a class=\"X3\" href=\"/twy118871x3x22.htm\" title=\"Not Today 歌詞 Imagine Dragons\">Not Today</a><br/><span class=\"Ac1\">&gt; </span><a class=\"X3\" href=\"/twy118871x7x1.htm\" title=\"Monster 歌詞 Imagine Dragons\">Monster</a><br/><span class=\"Ac1\">&gt; </span><a class=\"X3\" href=\"/twy118871x2x1.htm\" title=\"Radioactive 歌詞 Imagine Dragons\">Radioactive</a><br/><span class=\"Ac1\">&gt; </span><a class=\"X3\" href=\"/twy118871x25x9.htm\" title=\"Amsterdam 歌詞 Imagine Dragons\">Amsterdam</a><br/><span class=\"Ac1\">&gt; </span><a class=\"X3\" href=\"/twy118871x28x2.htm\" title=\"Whatever It Takes  歌詞 Imagine Dragons\">Whatever It Takes </a><br/><span class=\"Ac1\">&gt; </span><a class=\"X3\" href=\"/twy118871x28x6.htm\" title=\"I'll Make It Up To You  歌詞 Imagine Dragons\">I'll Make It Up To You </a><br/><span class=\"Ac1\">&gt; </span><a class=\"X3\" href=\"/twy118871x28x7.htm\" title=\"Yesterday  歌詞 Imagine Dragons\">Yesterday </a><br/><span class=\"Ac1\">&gt; </span><a class=\"X3\" href=\"/twy118871x14x1.htm\" title=\"Warriors 歌詞 Imagine Dragons\">Warriors</a><br/><span class=\"Ac1\">&gt; </span><a class=\"X3\" href=\"/twy118871x28x5.htm\" title=\"Rise Up  歌詞 Imagine Dragons\">Rise Up </a><br/><span class=\"Ac1\">&gt; </span><a class=\"X3\" href=\"/twy118871x22x13.htm\" title=\"Friction 歌詞 Imagine Dragons\">Friction</a><br/><span class=\"Ac1\">&gt; </span><a class=\"X3\" href=\"/twy118871x28x1.htm\" title=\"I Don't Know Why  歌詞 Imagine Dragons\">I Don't Know Why </a><br/><span class=\"Ac1\">&gt; </span><a class=\"X3\" href=\"/twy118871x26x1.htm\" title=\"Tip Toe 歌詞 Imagine Dragons\">Tip Toe</a><br/><span class=\"Ac1\">&gt; </span><a class=\"X3\" href=\"/twy118871x28x8.htm\" title=\"Mouth Of The River  歌詞 Imagine Dragons\">Mouth Of The River </a><br/><span class=\"Ac1\">&gt; </span><a class=\"X3\" href=\"/twy118871x22x17.htm\" title=\"Shots 歌詞 Imagine Dragons\">Shots</a><br/><span class=\"Ac1\">&gt; </span><a class=\"X3\" href=\"/twy118871x28x11.htm\" title=\"Dancing In The Dark  歌詞 Imagine Dragons\">Dancing In The Dark </a><br/><span class=\"Ac1\">&gt; </span><a class=\"X3\" href=\"/twy118871x17x1.htm\" title=\"Thunder 歌詞 Imagine Dragons\">Thunder</a><br/><span class=\"Ac1\">&gt; </span><a class=\"X3\" href=\"/twy118871x32x1.htm\" title=\"Zero 歌詞 Imagine Dragons\">Zero</a><br/><span class=\"Ac1\">&gt; </span><a class=\"X3\" href=\"/twy118871x3x15.htm\" title=\"Demons - Imagine Dragons Remix 歌詞 Imagine Dragons\">Demons - Imagine Dragons Remix</a><br/>\n",
       "</div>\n",
       "<hr class=\"hr1\" style=\"min-width: 150px;\"/>\n",
       "<dl><dt>\n",
       "<script>document.write(U2tableA1);</script>\n",
       "<div class=\"fsYY002\" id=\"fsYY002\"><a href=\"/twh118871.htm\" title=\"Imagine Dragons 共收藏 34張專輯 203首歌詞\">Imagine Dragons</a><br/><b>所有專輯</b><br/><span class=\"Ac1\">&gt; </span><a class=\"X3\" href=\"/tw118871x34.htm\" title=\"Bad Liar 歌詞 Imagine Dragons\">Bad Liar</a><br/><span class=\"Ac1\">&gt; </span><a class=\"X3\" href=\"/tw118871x33.htm\" title=\"Machine 歌詞 Imagine Dragons\">Machine</a><br/><span class=\"Ac1\">&gt; </span><a class=\"X3\" href=\"/tw118871x32.htm\" title=\"Zero 歌詞 Imagine Dragons\">Zero</a><br/><span class=\"Ac1\">&gt; </span><a class=\"X3\" href=\"/tw118871x31.htm\" title=\"Natural 歌詞 Imagine Dragons\">Natural</a><br/><span class=\"Ac1\">&gt; </span><a class=\"X3\" href=\"/tw118871x30.htm\" title=\"Thunder / Young Dumb &amp; Broke(Medley) 歌詞 Imagine Dragons\">Thunder / Young Dumb &amp; Broke(Medley)</a><br/><span class=\"Ac1\">&gt; </span><a class=\"X3\" href=\"/tw118871x28.htm\" title=\"Evolve 歌詞 Imagine Dragons\">Evolve</a><br/><span class=\"Ac1\">&gt; </span><a class=\"X3\" href=\"/tw118871x17.htm\" title=\"Thunder 歌詞 Imagine Dragons\">Thunder</a><br/><span class=\"Ac1\">&gt; </span><a class=\"X3\" href=\"/tw118871x16.htm\" title=\"Believer 歌詞 Imagine Dragons\"><font color=\"#990000\">Believer</font></a><br/><span class=\"Ac1\">&gt; </span><a class=\"X3\" href=\"/tw118871x18.htm\" title=\"Levitate 歌詞 Imagine Dragons\">Levitate</a><br/><span class=\"Ac1\">&gt; </span><a class=\"X3\" href=\"/tw118871x5.htm\" title=\"謎霧幻鏡(Smoke + Mirrors - Deluxe) 歌詞 Imagine Dragons\">謎霧幻鏡(Smoke + Mirrors - Deluxe)</a><br/><span class=\"Ac1\">&gt; </span><a class=\"X3\" href=\"/tw118871x11.htm\" title=\"Roots (Single) 歌詞 Imagine Dragons\">Roots (Single)</a><br/><span class=\"Ac1\">&gt; </span><a class=\"X3\" href=\"/tw118871x12.htm\" title=\"I Was Me (Single) 歌詞 Imagine Dragons\">I Was Me (Single)</a><br/><span class=\"Ac1\">&gt; </span><a class=\"X3\" href=\"/tw118871x4.htm\" title=\"Gold 歌詞 Imagine Dragons\">Gold</a><br/><span class=\"Ac1\">&gt; </span><a class=\"X3\" href=\"/tw118871x14.htm\" title=\"Warriors (Single) 歌詞 Imagine Dragons\">Warriors (Single)</a><br/><span class=\"Ac1\">&gt; </span><a class=\"X3\" href=\"/tw118871x15.htm\" title=\"Battle Cry (Single) 歌詞 Imagine Dragons\">Battle Cry (Single)</a><br/><span class=\"Ac1\">&gt; </span><a class=\"X3\" href=\"/tw118871x1.htm\" title=\"夜視界(Night Visions) 歌詞 Imagine Dragons\">夜視界(Night Visions)</a><br/><span class=\"Ac1\">&gt; </span><a class=\"X3\" href=\"/tw118871x6.htm\" title=\"The Archive (EP) 歌詞 Imagine Dragons\">The Archive (EP)</a><br/><span class=\"Ac1\">&gt; </span><a class=\"X3\" href=\"/tw118871x7.htm\" title=\"Monster (Single) 歌詞 Imagine Dragons\">Monster (Single)</a><br/><span class=\"Ac1\">&gt; </span><a class=\"X3\" href=\"/tw118871x2.htm\" title=\"Continued Silence EP 歌詞 Imagine Dragons\">Continued Silence EP</a><br/><span class=\"Ac1\">&gt; </span><a class=\"X3\" href=\"/tw118871x8.htm\" title=\"Amsterdam (Single) 歌詞 Imagine Dragons\">Amsterdam (Single)</a><br/><span class=\"Ac1\">&gt; </span><a class=\"X3\" href=\"/tw118871x9.htm\" title=\"It's Time (EP) 歌詞 Imagine Dragons\">It's Time (EP)</a><br/><span class=\"Ac1\">&gt; </span><a class=\"X3\" href=\"/tw118871x10.htm\" title=\"Hell And Silence EP 歌詞 Imagine Dragons\">Hell And Silence EP</a><br/><span class=\"Ac1\">&gt; </span><a class=\"X3\" href=\"/tw118871x25.htm\" title=\"iTunes Session 歌詞 Imagine Dragons\">iTunes Session</a><br/><span class=\"Ac1\">&gt; </span><a class=\"X3\" href=\"/tw118871x23.htm\" title=\"Speak to Me EP 歌詞 Imagine Dragons\">Speak to Me EP</a><br/><span class=\"Ac1\">&gt; </span><a class=\"X3\" href=\"/tw118871x22.htm\" title=\"Smoke+Mirrors Special Edition 歌詞 Imagine Dragons\">Smoke+Mirrors Special Edition</a><br/><span class=\"Ac1\">&gt; </span><a class=\"X3\" href=\"/tw118871x19.htm\" title=\"Shots EP 歌詞 Imagine Dragons\">Shots EP</a><br/><span class=\"Ac1\">&gt; </span><a class=\"X3\" href=\"/tw118871x26.htm\" title=\"Night Visions Live 歌詞 Imagine Dragons\">Night Visions Live</a><br/><span class=\"Ac1\">&gt; </span><a class=\"X3\" href=\"/tw118871x29.htm\" title=\"Live At AllSaints Studios 歌詞 Imagine Dragons\">Live At AllSaints Studios</a><br/><span class=\"Ac1\">&gt; </span><a class=\"X3\" href=\"/tw118871x27.htm\" title=\"Imagine Dragons EP 歌詞 Imagine Dragons\">Imagine Dragons EP</a><br/><span class=\"Ac1\">&gt; </span><a class=\"X3\" href=\"/tw118871x20.htm\" title=\"Imagine Dragons (Spotify Sessions) 歌詞 Imagine Dragons\">Imagine Dragons (Spotify Sessions)</a><br/><span class=\"Ac1\">&gt; </span><a class=\"X3\" href=\"/tw118871x24.htm\" title=\"I Bet My Life (Remixes) 歌詞 Imagine Dragons\">I Bet My Life (Remixes)</a><br/><span class=\"Ac1\">&gt; </span><a class=\"X3\" href=\"/tw118871x13.htm\" title=\"Hallucinations (The Mixtape) 歌詞 Imagine Dragons\">Hallucinations (The Mixtape)</a><br/><span class=\"Ac1\">&gt; </span><a class=\"X3\" href=\"/tw118871x21.htm\" title=\"Compilation 歌詞 Imagine Dragons\">Compilation</a><br/><span class=\"Ac1\">&gt; </span><a class=\"X3\" href=\"/tw118871x3.htm\" title=\"暫存 歌詞 Imagine Dragons\">暫存</a><br/></div>\n",
       "</dt></dl>\n",
       "<hr class=\"hr1\"/>\n",
       "</div>\n",
       "<div id=\"U2_mmmAA\" valign=\"top\" width=\"0\">\n",
       "<script>document.write(U2tableA2);</script>\n",
       "</div>\n",
       "</td></tr></table>\n",
       "<ul><li style=\"text-align:center;\"><font color=\"#E0C5A3\"> 【 <a class=\"Z1\" href=\"/twza1.htm\" title=\"亞洲 男生歌手 歌詞列表\">男生</a> | <a class=\"Z1\" href=\"/twzb1.htm\" title=\"亞洲 女生歌手 歌詞列表\">女生</a> | <a class=\"Z1\" href=\"/twzc1.htm\" title=\"亞洲 團體歌手 歌詞列表\">團體</a> | <a class=\"Z1\" href=\"/twzf1.htm\" title=\"日韓歌手 歌詞列表\">日韓</a> | <a class=\"Z1\" href=\"/twze1.htm\" title=\"歐美歌手 歌詞列表\">歐美</a> | <a class=\"Z1\" href=\"/twzz1.htm\" title=\"其他歌手 歌詞列表\">其他</a> 】 【 <a class=\"Z1\" href=\"/twznew.htm\" title=\"最新專輯 歌詞列表\">最新專輯</a> | <a class=\"Z1\" href=\"/twzhot-cd.htm\" title=\"熱門專輯 歌詞列表\">熱門專輯</a> | <a class=\"Z1\" href=\"/twzhot-song.htm\" title=\"熱門歌手 歌詞列表\">熱門歌手</a>  】 【 <a class=\"Z1\" href=\"/search.php\" title=\"搜尋 歌手 專輯 歌名 歌詞\">搜尋</a> | <a class=\"Z1\" href=\"/twznew.htm\" title=\"※ Mojim.com 魔鏡歌詞網\"> 首頁</a> | <a class=\"Z1\" href=\"/twzsitemap.htm\" title=\"網站總覽\">網站總覽</a> 】</font></li></ul>\n",
       "<script>document.write(fc);</script>\n",
       "</div>\n",
       "<div id=\"Ta2\">\n",
       "<script>document.write(f1);</script><br/>\n",
       "</div>\n",
       "<script>document.write(f9);</script>\n",
       "<script>document.write(U2end);</script>\n",
       "<script>document.write(f8);</script>\n",
       "</div>\n",
       "<div id=\"Tb1\">\n",
       "<br/>\n",
       "<script src=\"/js_home_ileft.js?20180801\" type=\"text/javascript\"></script>\n",
       "</div>\n",
       "<div id=\"Tb2\">\n",
       "</div>\n",
       "</body>\n",
       "</html>"
      ]
     },
     "execution_count": 48,
     "metadata": {},
     "output_type": "execute_result"
    }
   ],
   "source": [
    "soup"
   ]
  },
  {
   "cell_type": "code",
   "execution_count": 50,
   "metadata": {},
   "outputs": [
    {
     "name": "stdout",
     "output_type": "stream",
     "text": [
      " Believer\n"
     ]
    }
   ],
   "source": [
    "song_name = soup.find(id='fsZx2').text\n",
    "print(song_name)"
   ]
  },
  {
   "cell_type": "code",
   "execution_count": 51,
   "metadata": {},
   "outputs": [
    {
     "name": "stdout",
     "output_type": "stream",
     "text": [
      "作詞：Dan Reynolds作曲：Dan ReynoldsFirst things firstI'ma say all the words inside my headI'm fired up and tired of the way that things have been, oh-oohThe way that things have been, oh-oohSecond thing secondDon't you tell me what you think that I can beI'm the one at the sail, I'm the master of my sea, oh-oohThe master of my sea, oh-oohI was broken from a young ageTaking my sulking to the massesWrite down my poems for the fewThat looked at me took to me, shook to me, feeling meSinging from heart ache from the painTake up my message from the veinsSpeaking my lesson from the brainSeeing the beauty through the...Pain!You made me a, you made me a believer, believerPain!You break me down, you build me up, believer, believerPain!I let the bullets fly, oh let them rainMy life, my love, my drive, it came from...Pain!You made me a, you made me a believer, believerThird things thirdSend a prayer to the ones up aboveAll the hate that you've heard has turned your spirit to a dove, oh-oohYour spirit up above, oh-oohI was choking in the crowdLiving my brain up in the cloud更多更詳盡歌詞 在 ※ Mojim.com　魔鏡歌詞網 Falling like ashes to the groundHoping my feelings, they would drownBut they never did, ever lived, ebbing and flowingInhibited, limitedTill it broke open and it rained downIt rained down, like...Pain!You made me a, you made me a believer, believerPain!You break me down, you built me up, believer, believerPain!I let the bullets fly, oh let them rainMy life, my love, my drive, it came from...Pain!You made me a, you made me a believer, believerLast things lastBy the grace of the fire and the flamesYou're the face of the future, the blood in my veins, oh-oohThe blood in my veins, oh-oohBut they never did, ever lived, ebbing and flowingInhibited, limitedTill it broke open and it rained downIt rained down, like...Pain!You made me a, you made me a believer, believerPain!You break me down, you built me up, believer, believerPain!I let the bullets fly, oh let them rainMy life, my love, my drive, if came from...Pain!You made me a, you made me a believer, believer\n",
      "\n"
     ]
    }
   ],
   "source": [
    "song_lyrics = soup.find(id='fsZx3').text\n",
    "print(song_lyrics)"
   ]
  },
  {
   "cell_type": "code",
   "execution_count": null,
   "metadata": {},
   "outputs": [],
   "source": []
  }
 ],
 "metadata": {
  "kernelspec": {
   "display_name": "Python 3",
   "language": "python",
   "name": "python3"
  },
  "language_info": {
   "codemirror_mode": {
    "name": "ipython",
    "version": 3
   },
   "file_extension": ".py",
   "mimetype": "text/x-python",
   "name": "python",
   "nbconvert_exporter": "python",
   "pygments_lexer": "ipython3",
   "version": "3.7.3"
  }
 },
 "nbformat": 4,
 "nbformat_minor": 2
}
