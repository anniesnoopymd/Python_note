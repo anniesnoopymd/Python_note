{
 "cells": [
  {
   "cell_type": "code",
   "execution_count": 3,
   "metadata": {},
   "outputs": [
    {
     "name": "stdout",
     "output_type": "stream",
     "text": [
      "標題：開總統專機前晚酗酒？飛官怒駁\n",
      "網址：https://tw.news.yahoo.com/%E9%96%8B%E7%B8%BD%E7%B5%B1%E5%B0%88%E6%A9%9F%E5%89%8D%E6%99%9A%E9%85%97%E9%85%92%E9%A3%9B%E5%AE%98%E6%80%92%E9%A7%81%E5%A6%BB%E4%BA%82%E7%88%86%E6%96%99-020322387.html\n",
      "標題：慘！國產車警訊 30萬人剉咧等\n",
      "網址：https://tw.news.yahoo.com/%E5%9C%8B%E7%94%A2%E8%BB%8A%E6%8B%89%E8%AD%A6%E5%A0%B1-30%E8%90%AC%E5%B7%A5%E4%BD%9C%E4%BA%BA%E5%8F%A3%E9%9D%A2%E8%87%A8%E5%A4%B1%E6%A5%AD%E5%8D%B1%E6%A9%9F-052500673.html\n",
      "標題：國旅補助加碼 放送夜市抵用券\n",
      "網址：https://tw.news.yahoo.com/%E5%9C%8B%E6%97%85%E7%AC%AC%E4%BA%8C%E6%B3%A2%E8%A3%9C%E5%8A%A9%E4%BE%86%E4%BA%86%E5%A4%9C%E5%B8%82%E6%8A%B5%E7%94%A8%E5%88%B8200%E5%85%83%E7%AD%8911%E9%A1%9E%E5%84%AA%E6%83%A0%E9%A0%90%E8%A8%8816%E6%97%A5%E4%B8%8A%E8%B7%AF-131318539.html\n",
      "標題：「討厭外省人」挨批 柯急轉彎\n",
      "網址：https://tw.news.yahoo.com/%E6%98%A8%E7%A8%B1-%E8%A8%8E%E5%8E%AD%E5%A4%96%E7%9C%81%E4%BA%BA-%E6%8C%A8%E6%89%B9-%E6%9F%AF%E6%96%87%E5%93%B2%E4%BB%8A%E5%90%A6%E8%AA%8D-%E6%88%91%E5%B7%B2%E6%98%AF%E6%9C%80%E6%B2%92%E7%9C%81%E7%B1%8D%E5%B0%8D%E7%AB%8B%E7%9A%84%E4%BA%BA%E4%BA%86-054119839.html\n",
      "標題：10天用電噴1560元 網揪出凶手\n",
      "網址：https://tw.news.yahoo.com/10%E5%A4%A9%E7%94%A8%E9%9B%BB260%E5%BA%A6%E5%99%B41560%E5%85%83-%E7%B6%B2%E6%8F%AA-%E9%9B%BB%E8%B2%BB%E6%AE%BA%E6%89%8B%E6%98%AF%E9%80%99%E5%8F%B0-114426895.html\n",
      "標題：媒體沒要堵他 德佬自嘲解尷尬\n",
      "網址：https://tw.news.yahoo.com/nba-%E5%BE%B7%E4%BD%AC%E8%AA%A4%E4%BB%A5%E7%82%BA%E5%A4%A7%E6%89%B9%E5%AA%92%E9%AB%94%E7%82%BA%E8%87%AA%E5%B7%B1%E6%8E%A5%E6%A9%9F-%E7%9F%A5%E9%81%93%E7%9C%9F%E7%9B%B8%E5%BE%8C%E8%B6%85%E7%B3%97-101344959.html\n",
      "標題：考慮2個月 36歲Nene想回火箭\n",
      "網址：https://tw.news.yahoo.com/nba-36%E6%AD%B2%E8%80%81%E5%B0%87%E7%BA%8C%E6%88%B0-%E5%82%B3%E9%87%8D%E8%BF%94%E7%81%AB%E7%AE%AD-114111664.html\n",
      "標題：太心急！王子維連2年首戰淘汰\n",
      "網址：https://tw.sports.yahoo.com/news/%E7%BE%BD%E7%90%83-%E5%A4%AA%E6%83%B3%E5%9C%A8%E5%AE%B6%E9%84%89%E9%9B%AA%E6%81%A5-%E7%8E%8B%E5%AD%90%E7%B6%AD%E5%BF%83%E6%85%8B%E5%87%BA%E5%95%8F%E9%A1%8C%E9%80%A3%E5%85%A9%E5%B9%B4%E9%A6%96%E6%88%B0%E6%B7%98%E6%B1%B0-111856633.html\n",
      "標題：MJ高級垃圾話 酸度和霸氣夠嗆\n",
      "網址：https://tw.sports.yahoo.com/news/%E9%80%99%E8%81%AF%E7%9B%9F%E9%9C%80%E8%A6%81%E6%9B%B4%E9%AB%98%E7%B4%9A%E7%9A%84%E5%9E%83%E5%9C%BE%E8%A9%B1%E5%96%AC%E4%B8%B9%E7%94%9F%E6%B6%AF%E6%9C%80%E7%8B%82%E5%9E%83%E5%9C%BE%E8%A9%B1%E7%89%87%E6%AE%B5-024110250.html\n",
      "標題：豪哥認證 NBA最快後衛是他\n",
      "網址：https://tw.news.yahoo.com/nba-%E8%B1%AA%E5%93%A5%E8%AA%8D%E8%AD%89-%E7%95%B6%E4%BB%8A%E6%9C%80%E5%BF%AB%E5%BE%8C%E8%A1%9B%E6%98%AF%E4%BB%96-093615149.html\n",
      "標題：該看誰？小嫻、安妮泳裝大車拚\n",
      "網址：https://tw.news.yahoo.com/%E6%B3%B3%E8%A3%9D%E5%A4%A7%E6%AF%94%E6%8B%9A-%E5%B0%8F%E5%AB%BB%E8%B9%A6%E9%9B%AA%E4%B9%B3-%E5%AE%89%E5%A6%AE%E9%96%8B%E9%AB%98%E8%A1%A9-%E7%B6%B2%E6%9A%B4%E5%8B%95-100500597.html\n",
      "標題：尪爆偷吃女總裁 龔慈恩吐心聲\n",
      "網址：https://tw.news.yahoo.com/%E6%9E%97%E7%85%92%E5%81%B7%E5%90%83%E5%A5%B3%E7%B8%BD%E8%A3%81-20%E5%B9%B4%E6%AD%A3%E5%AE%AE%E9%A6%96%E5%90%90%E5%BF%83%E8%81%B2-115004603.html\n",
      "標題：工作變少 吳東諺找白家綺吵架\n",
      "網址：https://tw.news.yahoo.com/%E5%90%B3%E6%9D%B1%E8%AB%BA%E5%B7%A5%E4%BD%9C%E8%AE%8A%E5%B0%91%E6%89%BE%E7%99%BD%E5%AE%B6%E7%B6%BA%E5%90%B5%E4%BA%86%E4%B8%80%E6%9E%B6-10-min%E7%AB%8B%E5%88%BB%E9%81%93%E6%AD%89%E6%98%AF%E6%88%91%E7%9A%84%E5%95%8F%E9%A1%8C-091406084.html\n",
      "標題：林珈安閃婚又生子 都是為了他 \n",
      "網址：https://tw.news.yahoo.com/%E5%A5%B3%E6%98%9F%E9%96%83%E5%A9%9A%E7%94%9F%E5%AD%90-%E6%80%A5%E6%8B%8D%E5%A9%9A%E7%B4%97%E9%80%81%E5%88%A5%E7%99%8C%E7%88%B6-063320758.html\n",
      "標題：衰成安宰賢小三？吳漣序喊告\n",
      "網址：https://tw.news.yahoo.com/%E8%A1%B0%E6%88%90-%E5%AE%89%E5%AE%B0%E8%B3%A2%E5%B0%8F%E4%B8%89-%E5%A5%B3%E6%98%9F%E5%96%8A%E5%91%8A%E5%85%B7%E6%83%A0%E5%96%84-065004502.html\n",
      "標題：開機一半男提分手 結局眾人傻\n",
      "網址：https://tw.news.yahoo.com/%E5%95%AA%E5%88%B0-%E5%8D%8A-%E7%94%B7%E5%8F%8B%E5%9A%87%E5%A3%9E%E6%8F%90%E5%88%86%E6%89%8B-%E8%AA%87%E5%BC%B5%E7%90%86%E7%94%B1%E5%A5%B3%E5%8F%8B%E5%82%BB%E7%9C%BC-040800486.html#0904im\n",
      "標題：台這物初體驗 日人喊：好可怕\n",
      "網址：https://tw.news.yahoo.com/%E6%97%A5%E6%9C%AC%E4%BA%BA%E5%98%86%E5%8F%B0%E7%81%A3%E5%85%AC%E8%BB%8A%E8%B6%85%E5%8D%B1%E9%9A%AA-%E5%85%A7%E8%A1%8C%E6%8E%A8-%E6%AD%A4%E8%99%95-%E5%8F%B8%E6%A9%9F-%E7%9C%9F%E8%BB%8A%E7%A5%9E-023603507.html#0904im\n",
      "標題：女遇見7少男 認錯人揭身分歎\n",
      "網址：https://yahoo.wakool.net/game/info/2000000217#0904im\n",
      "標題：空姐私處腫1顆 軟軟的醫搖頭\n",
      "網址：https://tw.news.yahoo.com/%E4%B8%8B%E9%9D%A2%E5%8F%88%E8%85%AB%E5%8F%88%E7%97%9B-%E7%A9%BA%E5%A7%8A%E9%95%B7%E5%87%BA-%E9%B5%AA%E9%B6%89%E8%9B%8B-%E8%86%BF%E5%8C%85%E7%8B%82%E9%A3%84%E8%87%AD-112800194.html#0904im\n",
      "標題：逛夜市兒喊2字曝私密 人妻臉綠\n",
      "網址：https://tw.news.yahoo.com/%E5%85%A8%E5%AE%B6%E9%80%9B%E5%A4%9C%E5%B8%82-%E5%85%92%E7%A7%92%E5%96%8A-%E5%AA%BD%E5%A6%B3%E7%9A%84%E7%8E%A9%E5%85%B7-%E5%A5%B9-%E7%9C%8B%E7%9E%AC%E9%96%93%E5%B4%A9%E6%BD%B0-053208931.html#0904im\n",
      "標題：果粉衝擊 iPhone傳全面漲了 \n",
      "網址：https://tw.news.yahoo.com/%E5%8F%97%E7%BE%8E%E5%9C%8B%E5%8A%A0%E5%BE%B5%E9%97%9C%E7%A8%85%E8%87%B3-15-%E5%BD%B1%E9%9F%BF-apple-%E7%94%A2%E5%93%81%E6%88%96%E5%85%A8%E9%9D%A2%E5%8A%A0%E5%83%B9-080411180.html#0904ac\n",
      "標題：半年找嘸工作…這科系最意外\n",
      "網址：https://tw.news.yahoo.com/%E4%BD%A0%E9%82%84%E5%9C%A8%E5%BE%85%E6%A5%AD%E5%97%8E-%E9%80%99%E5%80%8B%E5%AD%B8%E7%B3%BB%E7%9A%84%E7%95%A2%E6%A5%AD%E7%94%9F%E5%B9%B3%E5%9D%875-92%E5%80%8B%E6%9C%88%E5%BE%8C%E6%89%8D%E6%89%BE%E5%88%B0%E5%B7%A5%E4%BD%9C-023853652.html#0904ac\n",
      "標題：尿尿1狀 新光醫：無聲癌前兆\n",
      "網址：https://www.everydayhealth.com.tw/article/22570#0904acc\n",
      "標題：3年婚變切了 昔玉女證實退出\n",
      "網址：https://style.yahoo.com.tw/%E5%85%B7%E6%83%A0%E5%96%84%E8%AD%89%E5%AF%A6%E5%B0%87%E9%80%80%E5%87%BA%E6%BC%94%E8%97%9D%E5%9C%88-%E6%8F%AA%E5%BF%83%E7%99%BC%E6%96%87-%E5%A6%82%E6%9E%9C%E7%95%B6%E6%99%82%E6%B2%92%E6%9C%89%E8%AA%AA%E6%84%9B%E4%BD%A0-%E7%96%91%E4%BC%BC%E9%9B%A3%E5%BF%98%E5%AE%89%E5%AE%B0%E8%B3%A2-225300301.html#0904ac\n",
      "標題：全台超商絕版 一包這竟搶到了\n",
      "網址：https://yahoo-auction-hot.tumblr.com/post/187020916041/%E9%80%A0%E5%9E%8B%E6%82%A0%E9%81%8A%E5%8D%A1%E4%B9%96%E4%B9%96%E6%82%A0%E9%81%8A%E5%8D%A1%E8%B2%B7%E4%B8%8D%E5%88%B0%E6%B2%92%E9%97%9C%E4%BF%82%E7%B2%BE%E9%81%B8%E6%8E%A8%E8%96%A68%E6%AC%BE%E9%80%A0%E5%9E%8B%E6%82%A0%E9%81%8A%E5%8D%A1%E5%B9%AB%E8%8D%B7%E5%8C%85%E7%8F%BE%E7%9C%816000#0904ac\n",
      "標題：一年一次爬15樓搶 老外傻眼\n",
      "網址：https://www.litv.tv/vod/show/content.do?content_id=VOD00157158&sponsorName=eWFob28=&autoPlay=1#0904hh\n",
      "標題：兄不孕 大嫂竟使出這招生子\n",
      "網址：https://tw.tv.yahoo.com/mannerproduction/%E8%A6%AA%E4%BA%BA%E6%9C%89%E9%9B%A3-%E5%AE%9A%E8%A6%81%E5%B9%AB%E5%BF%99-%E4%BD%86%E9%80%99%E5%80%8B%E5%BF%99%E5%B9%AB%E5%BE%97%E5%AF%A6%E5%9C%A8%E5%B0%B7%E5%B0%AC%E5%95%8A-135810008.html#0904hh\n",
      "標題：中了快放生…劈腿慣犯2種人 \n",
      "網址：https://tw.tv.yahoo.com/jessie/%E5%B0%8F%E5%BF%83-%E9%80%99%E5%85%A9%E7%A8%AE%E4%BA%BA%E6%98%AF%E5%8A%88%E8%85%BF%E6%85%A3%E7%8A%AF-114602221.html#0904hh\n",
      "標題：囧！網po警語出包 差點打110\n",
      "網址：https://tw.tv.yahoo.com/rayduenglish/sweet-axx-%E6%9C%83%E8%A2%AB%E4%B8%8B%E9%BB%83%E6%A8%99%E7%9A%84%E8%B6%85%E7%9E%8E%E7%BF%BB%E8%AD%AF-feat-hook-125052986.html#0904hh\n",
      "標題：滷肉飯輸它 新竹人求：別再報\n",
      "網址：https://tw.tv.yahoo.com/ycreators/%E9%82%84%E5%9C%A8%E5%90%83%E6%BB%B7%E8%82%89%E9%A3%AF%E5%B0%B1%E8%90%BD%E4%BC%8D%E4%BA%86-%E8%A9%A6%E8%A9%A6%E4%BE%86%E6%96%B0%E7%AB%B9%E7%8E%A9%E5%BF%85%E5%90%83%E7%9A%84%E6%9D%BE%E9%98%AA%E8%B1%AC%E9%A3%AF-190313361.html#0904hh\n"
     ]
    }
   ],
   "source": [
    "import requests\n",
    "from bs4 import BeautifulSoup\n",
    "\n",
    "# 下載 Yahoo 首頁內容\n",
    "r = requests.get('https://tw.yahoo.com/')\n",
    "\n",
    "# 確認是否下載成功\n",
    "if r.status_code == requests.codes.ok:\n",
    "  # 以 BeautifulSoup 解析 HTML 程式碼\n",
    "  soup = BeautifulSoup(r.text, 'html.parser')\n",
    "\n",
    "  # 以 CSS 的 class 抓出各類頭條新聞\n",
    "  stories = soup.find_all('a', class_='story-title')\n",
    "  for s in stories:\n",
    "    # 新聞標題\n",
    "    print(\"標題：\" + s.text)\n",
    "    # 新聞網址\n",
    "    print(\"網址：\" + s.get('href'))"
   ]
  },
  {
   "cell_type": "code",
   "execution_count": null,
   "metadata": {},
   "outputs": [],
   "source": []
  }
 ],
 "metadata": {
  "kernelspec": {
   "display_name": "Python 3",
   "language": "python",
   "name": "python3"
  },
  "language_info": {
   "codemirror_mode": {
    "name": "ipython",
    "version": 3
   },
   "file_extension": ".py",
   "mimetype": "text/x-python",
   "name": "python",
   "nbconvert_exporter": "python",
   "pygments_lexer": "ipython3",
   "version": "3.7.3"
  }
 },
 "nbformat": 4,
 "nbformat_minor": 2
}
