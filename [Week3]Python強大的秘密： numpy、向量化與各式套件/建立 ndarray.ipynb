{
 "cells": [
  {
   "cell_type": "code",
   "execution_count": 1,
   "metadata": {},
   "outputs": [],
   "source": [
    "import numpy as np"
   ]
  },
  {
   "cell_type": "markdown",
   "metadata": {},
   "source": [
    "建立一維 ndarray"
   ]
  },
  {
   "cell_type": "code",
   "execution_count": 4,
   "metadata": {},
   "outputs": [
    {
     "name": "stdout",
     "output_type": "stream",
     "text": [
      "<class 'numpy.ndarray'>\n",
      "[1 2 3]\n"
     ]
    }
   ],
   "source": [
    "mat = np.array([1,2,3])\n",
    "print(type(mat))\n",
    "print(mat)"
   ]
  },
  {
   "cell_type": "markdown",
   "metadata": {},
   "source": [
    "建立二維 ndarray"
   ]
  },
  {
   "cell_type": "code",
   "execution_count": 1,
   "metadata": {},
   "outputs": [
    {
     "name": "stdout",
     "output_type": "stream",
     "text": [
      "<class 'numpy.ndarray'>\n",
      "[[1 2 3]\n",
      " [4 5 6]\n",
      " [7 8 9]]\n"
     ]
    }
   ],
   "source": [
    "mat2 = np.array([[1,2,3],[4,5,6],[7,8,9]])\n",
    "print(type(mat2))\n",
    "print(mat2)"
   ]
  },
  {
   "cell_type": "markdown",
   "metadata": {},
   "source": [
    "### ndarray 物件常用的屬性\n",
    "<span style=\"color:orange\">ndarray.shape</span> Tuple of array dimentions  //幾乘幾的陣列\n",
    "\n",
    "<span style=\"color:orange\">ndarray.ndim</span> Number of array dimensions //幾個維度\n",
    "\n",
    "<span style=\"color:orange\">ndarray.size</span> Number of elements in the array //矩陣中的元素有幾個\n",
    "\n",
    "<span style=\"color:orange\">ndarray.dtype</span> Data-type of the array's elements //64位元整數\n",
    "\n",
    "<span style=\"color:orange\">ndarray.T</span> Same as self.transpose(), except that self is returned if self.ndim<2  //轉換成3x2的矩陣"
   ]
  },
  {
   "cell_type": "code",
   "execution_count": 2,
   "metadata": {},
   "outputs": [
    {
     "name": "stdout",
     "output_type": "stream",
     "text": [
      "[[1 2 3]\n",
      " [4 5 6]]\n",
      ".shape: (2, 3)\n",
      ".ndim: 2\n",
      ".size: 6\n",
      ".dtype: int64\n",
      ".dtype: [[1 4]\n",
      " [2 5]\n",
      " [3 6]]\n"
     ]
    }
   ],
   "source": [
    "mat3 = np.array([[1,2,3],[4,5,6]])\n",
    "print(mat3)\n",
    "print('.shape:', mat3.shape)\n",
    "print('.ndim:', mat3.ndim)\n",
    "print('.size:', mat3.size)\n",
    "print('.dtype:', mat3.dtype)\n",
    "print('.dtype:', mat3.T)"
   ]
  },
  {
   "cell_type": "code",
   "execution_count": 3,
   "metadata": {},
   "outputs": [
    {
     "name": "stdout",
     "output_type": "stream",
     "text": [
      "[0 1 2 3 4 5 6 7]\n"
     ]
    }
   ],
   "source": [
    "mat = np.arange(8)\n",
    "print(mat)"
   ]
  },
  {
   "cell_type": "code",
   "execution_count": 4,
   "metadata": {},
   "outputs": [
    {
     "name": "stdout",
     "output_type": "stream",
     "text": [
      "[3 4 5 6 7]\n"
     ]
    }
   ],
   "source": [
    "mat = np.arange(3,8)\n",
    "print(mat)"
   ]
  },
  {
   "cell_type": "code",
   "execution_count": 5,
   "metadata": {},
   "outputs": [
    {
     "name": "stdout",
     "output_type": "stream",
     "text": [
      "[3 5 7]\n"
     ]
    }
   ],
   "source": [
    "mat = np.arange(3,8,2)\n",
    "print(mat)"
   ]
  },
  {
   "cell_type": "markdown",
   "metadata": {},
   "source": [
    "### 創建一個預設矩陣：全零或全一矩陣\n",
    "np.zeros((行數，列數))\n",
    "(行數，列數)需要是一個 `list`或 `tuple` 給定列數、行數"
   ]
  },
  {
   "cell_type": "code",
   "execution_count": 3,
   "metadata": {},
   "outputs": [
    {
     "name": "stdout",
     "output_type": "stream",
     "text": [
      "[[0. 0. 0.]\n",
      " [0. 0. 0.]]\n"
     ]
    }
   ],
   "source": [
    "mat = np.zeros((2,3))\n",
    "print(mat)"
   ]
  },
  {
   "cell_type": "code",
   "execution_count": 5,
   "metadata": {},
   "outputs": [
    {
     "name": "stdout",
     "output_type": "stream",
     "text": [
      "[[1. 1. 1. 1.]\n",
      " [1. 1. 1. 1.]]\n"
     ]
    }
   ],
   "source": [
    "mat = np.ones((2,4))\n",
    "print(mat)"
   ]
  },
  {
   "cell_type": "markdown",
   "metadata": {},
   "source": [
    "### 創建一個亂數矩陣：\n",
    "np.random.rand(行數，列數) <br>\n",
    "注意：這裡的(行數，列數)不是list也不是tuple，而是直接給兩個參數"
   ]
  },
  {
   "cell_type": "code",
   "execution_count": 2,
   "metadata": {},
   "outputs": [
    {
     "name": "stdout",
     "output_type": "stream",
     "text": [
      "[[0.679644   0.93466553 0.80862452 0.46072153]]\n"
     ]
    }
   ],
   "source": [
    "mat = np.random.rand(1,4)\n",
    "print(mat)"
   ]
  },
  {
   "cell_type": "markdown",
   "metadata": {},
   "source": [
    "### 創建一個整數亂數矩陣：\n",
    "np.random.randint(low,high = None, size=None, dtype=\"l\") "
   ]
  },
  {
   "cell_type": "code",
   "execution_count": 2,
   "metadata": {},
   "outputs": [
    {
     "name": "stdout",
     "output_type": "stream",
     "text": [
      "[0 3 1 1 3 4 4 4 2 1]\n",
      "[3 2 4 3 2 3 4 2 3 2]\n",
      "[[2 4 3 3]\n",
      " [3 3 4 2]]\n"
     ]
    }
   ],
   "source": [
    "mat = np.random.randint(5,size=10)\n",
    "print(mat)\n",
    "\n",
    "mat1 = np.random.randint(2,5,size=10)\n",
    "print(mat1)\n",
    "\n",
    "mat2 = np.random.randint(2,5,size=(2,4))\n",
    "print(mat2)"
   ]
  },
  {
   "cell_type": "markdown",
   "metadata": {},
   "source": [
    "### 一維 ndarray 之索引\n",
    "跟 list 的索引有點像，但更彈性一點"
   ]
  },
  {
   "cell_type": "code",
   "execution_count": 1,
   "metadata": {},
   "outputs": [
    {
     "name": "stdout",
     "output_type": "stream",
     "text": [
      "[0 1 2 3 4 5 6 7]\n",
      "[3 4]\n"
     ]
    }
   ],
   "source": [
    "mat = np.arange(8)\n",
    "print(mat)\n",
    "print(mat[3:5])"
   ]
  },
  {
   "cell_type": "code",
   "execution_count": 2,
   "metadata": {},
   "outputs": [
    {
     "name": "stdout",
     "output_type": "stream",
     "text": [
      "[0 1 2 3 4 5 6 7]\n",
      "[3 4 5 6 7]\n"
     ]
    }
   ],
   "source": [
    "mat = np.arange(8)\n",
    "print(mat)\n",
    "print(mat[3:])"
   ]
  },
  {
   "cell_type": "code",
   "execution_count": null,
   "metadata": {},
   "outputs": [],
   "source": []
  }
 ],
 "metadata": {
  "kernelspec": {
   "display_name": "Python 3",
   "language": "python",
   "name": "python3"
  },
  "language_info": {
   "codemirror_mode": {
    "name": "ipython",
    "version": 3
   },
   "file_extension": ".py",
   "mimetype": "text/x-python",
   "name": "python",
   "nbconvert_exporter": "python",
   "pygments_lexer": "ipython3",
   "version": "3.7.3"
  }
 },
 "nbformat": 4,
 "nbformat_minor": 2
}
