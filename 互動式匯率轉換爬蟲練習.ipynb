{
 "cells": [
  {
   "cell_type": "code",
   "execution_count": 6,
   "metadata": {},
   "outputs": [],
   "source": [
    "from ipywidgets import interact, interact_manual  #互動套件\n",
    "def transform(money,currency):  #轉換成台幣\n",
    "    total = float(float(money)*currency)\n",
    "    print(\"換算台幣為: \" + str(total) + \" 元。\")  \n",
    "def transform2(tw_money,currency): #台幣轉換成各國幣值\n",
    "    total = float(float(tw_money)/currency)\n",
    "    print(\"換算\" + currency + \"為: \".format() + str(total) + \" 元。\")"
   ]
  },
  {
   "cell_type": "markdown",
   "metadata": {},
   "source": [
    "### 爬取各國匯率 台灣銀行資料\n",
    "#### Beautiful Soup 基本用法\n",
    "Beautiful Soup 的運作方式就是讀取 HTML 原始碼，自動進行解析並產生一個 BeautifulSoup 物件，此物件中包含了整個 HTML 文件的結構樹，有了這個結構樹之後，就可以輕鬆找出任何有興趣的資料了。"
   ]
  },
  {
   "cell_type": "code",
   "execution_count": 3,
   "metadata": {
    "scrolled": true
   },
   "outputs": [
    {
     "name": "stdout",
     "output_type": "stream",
     "text": [
      "30.975\n",
      "0.2866\n",
      "36.8\n",
      "0.02418\n",
      "0.9015\n",
      "33.62\n",
      "4.279\n"
     ]
    }
   ],
   "source": [
    "import requests\n",
    "from bs4 import BeautifulSoup as bs\n",
    "\n",
    "url = \"http://rate.bot.com.tw/xrt?Lang=zh-TW\"\n",
    "res = requests.get(url)\n",
    "#print res\n",
    "soup = bs(res.text)\n",
    "currency = soup.select(\".print_hide\")\n",
    "\n",
    "print (currency[14].text)  #美國\n",
    "print (currency[70].text)  #日圓\n",
    "print (currency[30].text)  #英鎊\n",
    "print (currency[134].text)  #韓元\n",
    "print (currency[102].text)  #泰銖\n",
    "print (currency[126].text)  #歐元\n",
    "print (currency[158].text)  #人民幣\n"
   ]
  },
  {
   "cell_type": "markdown",
   "metadata": {},
   "source": [
    "### 確認 ` requests.get(url)` 回傳的值\n",
    "- 顯示 200 即為 正常\n",
    "- 通常 2 開頭為 正常\n",
    "- 開頭為 4 或 5 表示 錯誤"
   ]
  },
  {
   "cell_type": "code",
   "execution_count": 11,
   "metadata": {},
   "outputs": [
    {
     "data": {
      "text/plain": [
       "<Response [200]>"
      ]
     },
     "execution_count": 11,
     "metadata": {},
     "output_type": "execute_result"
    }
   ],
   "source": [
    "res"
   ]
  },
  {
   "cell_type": "code",
   "execution_count": 10,
   "metadata": {},
   "outputs": [
    {
     "data": {
      "text/plain": [
       "[<p class=\"visible-phone btn-group print_hide\" id=\"rate-toggles\">\n",
       " <button class=\"rate-toggle-cash active print_hide btn hasscript-div\" type=\"button\">現金匯率</button>\n",
       " <button class=\"rate-toggle-sight print_hide btn hasscript-div\" type=\"button\">即期匯率</button>\n",
       " </p>,\n",
       " <button class=\"rate-toggle-cash active print_hide btn hasscript-div\" type=\"button\">現金匯率</button>,\n",
       " <button class=\"rate-toggle-sight print_hide btn hasscript-div\" type=\"button\">即期匯率</button>,\n",
       " <th class=\"print_hide rate-content-cash\" colspan=\"2\">現金匯率</th>,\n",
       " <th class=\"print_hide rate-content-sight\" colspan=\"2\">即期匯率</th>,\n",
       " <th class=\"print_hide\" rowspan=\"2\">\n",
       " <span class=\"\">遠期匯率</span>\n",
       " </th>,\n",
       " <th class=\"print_hide noscript\" rowspan=\"2\">歷史匯率</th>,\n",
       " <th class=\"print_hide rowSP_Ctrl_2_2_2 hasscript\">歷史匯率</th>,\n",
       " <th class=\"rate-content-cash print_hide\">\n",
       " <span style=\"width:inherit;\">\n",
       " <span class=\"\">本行買入</span>\n",
       " </span>\n",
       " </th>,\n",
       " <th class=\"rate-content-cash print_hide\">\n",
       " <span style=\"width:inherit;\">\n",
       " <span class=\"\">本行賣出</span>\n",
       " </span>\n",
       " </th>,\n",
       " <th class=\"rate-content-sight print_hide\" data-hide=\"phone\">\n",
       " <span style=\"width:inherit;\">\n",
       " <span class=\"\">本行買入</span>\n",
       " </span>\n",
       " </th>,\n",
       " <th class=\"rate-content-sight print_hide\" data-hide=\"phone\">\n",
       " <span style=\"width:inherit;\">\n",
       " <span class=\"\">本行賣出</span>\n",
       " </span>\n",
       " </th>,\n",
       " <br class=\"visible-phone print_hide\"/>,\n",
       " <div class=\"visible-phone print_hide\">\n",
       "                                 美金 (USD)\n",
       "                             </div>,\n",
       " <td class=\"rate-content-cash text-right print_hide\" data-table=\"本行現金買入\">30.975</td>,\n",
       " <td class=\"rate-content-cash text-right print_hide\" data-table=\"本行現金賣出\">31.645</td>,\n",
       " <td class=\"rate-content-sight text-right print_hide\" data-hide=\"phone\" data-table=\"本行即期買入\">31.325</td>,\n",
       " <td class=\"rate-content-sight text-right print_hide\" data-hide=\"phone\" data-table=\"本行即期賣出\">31.425</td>,\n",
       " <td class=\"text-center print_hide phone-small-font\" data-table=\"遠期匯率買入/賣出\"><a href=\"/xrt/forward/USD\">查詢</a></td>,\n",
       " <td class=\"text-center print_hide phone-small-font\" data-table=\"歷史匯率\"><a href=\"/xrt/history/USD\" target=\"_blank\">查詢</a></td>,\n",
       " <br class=\"visible-phone print_hide\"/>,\n",
       " <div class=\"visible-phone print_hide\">\n",
       "                                 港幣 (HKD)\n",
       "                             </div>,\n",
       " <td class=\"rate-content-cash text-right print_hide\" data-table=\"本行現金買入\">3.843</td>,\n",
       " <td class=\"rate-content-cash text-right print_hide\" data-table=\"本行現金賣出\">4.047</td>,\n",
       " <td class=\"rate-content-sight text-right print_hide\" data-hide=\"phone\" data-table=\"本行即期買入\">3.969</td>,\n",
       " <td class=\"rate-content-sight text-right print_hide\" data-hide=\"phone\" data-table=\"本行即期賣出\">4.029</td>,\n",
       " <td class=\"text-center print_hide phone-small-font\" data-table=\"遠期匯率買入/賣出\"><a href=\"/xrt/forward/HKD\">查詢</a></td>,\n",
       " <td class=\"text-center print_hide phone-small-font\" data-table=\"歷史匯率\"><a href=\"/xrt/history/HKD\" target=\"_blank\">查詢</a></td>,\n",
       " <br class=\"visible-phone print_hide\"/>,\n",
       " <div class=\"visible-phone print_hide\">\n",
       "                                 英鎊 (GBP)\n",
       "                             </div>,\n",
       " <td class=\"rate-content-cash text-right print_hide\" data-table=\"本行現金買入\">36.8</td>,\n",
       " <td class=\"rate-content-cash text-right print_hide\" data-table=\"本行現金賣出\">38.92</td>,\n",
       " <td class=\"rate-content-sight text-right print_hide\" data-hide=\"phone\" data-table=\"本行即期買入\">37.8</td>,\n",
       " <td class=\"rate-content-sight text-right print_hide\" data-hide=\"phone\" data-table=\"本行即期賣出\">38.22</td>,\n",
       " <td class=\"text-center print_hide phone-small-font\" data-table=\"遠期匯率買入/賣出\"><a href=\"/xrt/forward/GBP\">查詢</a></td>,\n",
       " <td class=\"text-center print_hide phone-small-font\" data-table=\"歷史匯率\"><a href=\"/xrt/history/GBP\" target=\"_blank\">查詢</a></td>,\n",
       " <br class=\"visible-phone print_hide\"/>,\n",
       " <div class=\"visible-phone print_hide\">\n",
       "                                 澳幣 (AUD)\n",
       "                             </div>,\n",
       " <td class=\"rate-content-cash text-right print_hide\" data-table=\"本行現金買入\">20.86</td>,\n",
       " <td class=\"rate-content-cash text-right print_hide\" data-table=\"本行現金賣出\">21.64</td>,\n",
       " <td class=\"rate-content-sight text-right print_hide\" data-hide=\"phone\" data-table=\"本行即期買入\">21.13</td>,\n",
       " <td class=\"rate-content-sight text-right print_hide\" data-hide=\"phone\" data-table=\"本行即期賣出\">21.36</td>,\n",
       " <td class=\"text-center print_hide phone-small-font\" data-table=\"遠期匯率買入/賣出\"><a href=\"/xrt/forward/AUD\">查詢</a></td>,\n",
       " <td class=\"text-center print_hide phone-small-font\" data-table=\"歷史匯率\"><a href=\"/xrt/history/AUD\" target=\"_blank\">查詢</a></td>,\n",
       " <br class=\"visible-phone print_hide\"/>,\n",
       " <div class=\"visible-phone print_hide\">\n",
       "                                 加拿大幣 (CAD)\n",
       "                             </div>,\n",
       " <td class=\"rate-content-cash text-right print_hide\" data-table=\"本行現金買入\">23.05</td>,\n",
       " <td class=\"rate-content-cash text-right print_hide\" data-table=\"本行現金賣出\">23.96</td>,\n",
       " <td class=\"rate-content-sight text-right print_hide\" data-hide=\"phone\" data-table=\"本行即期買入\">23.44</td>,\n",
       " <td class=\"rate-content-sight text-right print_hide\" data-hide=\"phone\" data-table=\"本行即期賣出\">23.66</td>,\n",
       " <td class=\"text-center print_hide phone-small-font\" data-table=\"遠期匯率買入/賣出\"><a href=\"/xrt/forward/CAD\">查詢</a></td>,\n",
       " <td class=\"text-center print_hide phone-small-font\" data-table=\"歷史匯率\"><a href=\"/xrt/history/CAD\" target=\"_blank\">查詢</a></td>,\n",
       " <br class=\"visible-phone print_hide\"/>,\n",
       " <div class=\"visible-phone print_hide\">\n",
       "                                 新加坡幣 (SGD)\n",
       "                             </div>,\n",
       " <td class=\"rate-content-cash text-right print_hide\" data-table=\"本行現金買入\">22</td>,\n",
       " <td class=\"rate-content-cash text-right print_hide\" data-table=\"本行現金賣出\">22.91</td>,\n",
       " <td class=\"rate-content-sight text-right print_hide\" data-hide=\"phone\" data-table=\"本行即期買入\">22.49</td>,\n",
       " <td class=\"rate-content-sight text-right print_hide\" data-hide=\"phone\" data-table=\"本行即期賣出\">22.67</td>,\n",
       " <td class=\"text-center print_hide phone-small-font\" data-table=\"遠期匯率買入/賣出\"><a href=\"/xrt/forward/SGD\">查詢</a></td>,\n",
       " <td class=\"text-center print_hide phone-small-font\" data-table=\"歷史匯率\"><a href=\"/xrt/history/SGD\" target=\"_blank\">查詢</a></td>,\n",
       " <br class=\"visible-phone print_hide\"/>,\n",
       " <div class=\"visible-phone print_hide\">\n",
       "                                 瑞士法郎 (CHF)\n",
       "                             </div>,\n",
       " <td class=\"rate-content-cash text-right print_hide\" data-table=\"本行現金買入\">30.97</td>,\n",
       " <td class=\"rate-content-cash text-right print_hide\" data-table=\"本行現金賣出\">32.17</td>,\n",
       " <td class=\"rate-content-sight text-right print_hide\" data-hide=\"phone\" data-table=\"本行即期買入\">31.63</td>,\n",
       " <td class=\"rate-content-sight text-right print_hide\" data-hide=\"phone\" data-table=\"本行即期賣出\">31.92</td>,\n",
       " <td class=\"text-center print_hide phone-small-font\" data-table=\"遠期匯率買入/賣出\"><a href=\"/xrt/forward/CHF\">查詢</a></td>,\n",
       " <td class=\"text-center print_hide phone-small-font\" data-table=\"歷史匯率\"><a href=\"/xrt/history/CHF\" target=\"_blank\">查詢</a></td>,\n",
       " <br class=\"visible-phone print_hide\"/>,\n",
       " <div class=\"visible-phone print_hide\">\n",
       "                                 日圓 (JPY)\n",
       "                             </div>,\n",
       " <td class=\"rate-content-cash text-right print_hide\" data-table=\"本行現金買入\">0.2866</td>,\n",
       " <td class=\"rate-content-cash text-right print_hide\" data-table=\"本行現金賣出\">0.2994</td>,\n",
       " <td class=\"rate-content-sight text-right print_hide\" data-hide=\"phone\" data-table=\"本行即期買入\">0.2939</td>,\n",
       " <td class=\"rate-content-sight text-right print_hide\" data-hide=\"phone\" data-table=\"本行即期賣出\">0.2979</td>,\n",
       " <td class=\"text-center print_hide phone-small-font\" data-table=\"遠期匯率買入/賣出\"><a href=\"/xrt/forward/JPY\">查詢</a></td>,\n",
       " <td class=\"text-center print_hide phone-small-font\" data-table=\"歷史匯率\"><a href=\"/xrt/history/JPY\" target=\"_blank\">查詢</a></td>,\n",
       " <br class=\"visible-phone print_hide\"/>,\n",
       " <div class=\"visible-phone print_hide\">\n",
       "                                 南非幣 (ZAR)\n",
       "                             </div>,\n",
       " <td class=\"rate-content-cash text-right print_hide\" data-table=\"本行現金買入\">-</td>,\n",
       " <td class=\"rate-content-cash text-right print_hide\" data-table=\"本行現金賣出\">-</td>,\n",
       " <td class=\"rate-content-sight text-right print_hide\" data-hide=\"phone\" data-table=\"本行即期買入\">2.04</td>,\n",
       " <td class=\"rate-content-sight text-right print_hide\" data-hide=\"phone\" data-table=\"本行即期賣出\">2.12</td>,\n",
       " <td class=\"text-center print_hide phone-small-font\" data-table=\"遠期匯率買入/賣出\"><a href=\"/xrt/forward/ZAR\">查詢</a></td>,\n",
       " <td class=\"text-center print_hide phone-small-font\" data-table=\"歷史匯率\"><a href=\"/xrt/history/ZAR\" target=\"_blank\">查詢</a></td>,\n",
       " <br class=\"visible-phone print_hide\"/>,\n",
       " <div class=\"visible-phone print_hide\">\n",
       "                                 瑞典幣 (SEK)\n",
       "                             </div>,\n",
       " <td class=\"rate-content-cash text-right print_hide\" data-table=\"本行現金買入\">2.82</td>,\n",
       " <td class=\"rate-content-cash text-right print_hide\" data-table=\"本行現金賣出\">3.34</td>,\n",
       " <td class=\"rate-content-sight text-right print_hide\" data-hide=\"phone\" data-table=\"本行即期買入\">3.16</td>,\n",
       " <td class=\"rate-content-sight text-right print_hide\" data-hide=\"phone\" data-table=\"本行即期賣出\">3.26</td>,\n",
       " <td class=\"text-center print_hide phone-small-font\" data-table=\"遠期匯率買入/賣出\"><a href=\"/xrt/forward/SEK\">查詢</a></td>,\n",
       " <td class=\"text-center print_hide phone-small-font\" data-table=\"歷史匯率\"><a href=\"/xrt/history/SEK\" target=\"_blank\">查詢</a></td>,\n",
       " <br class=\"visible-phone print_hide\"/>,\n",
       " <div class=\"visible-phone print_hide\">\n",
       "                                 紐元 (NZD)\n",
       "                             </div>,\n",
       " <td class=\"rate-content-cash text-right print_hide\" data-table=\"本行現金買入\">19.39</td>,\n",
       " <td class=\"rate-content-cash text-right print_hide\" data-table=\"本行現金賣出\">20.24</td>,\n",
       " <td class=\"rate-content-sight text-right print_hide\" data-hide=\"phone\" data-table=\"本行即期買入\">19.77</td>,\n",
       " <td class=\"rate-content-sight text-right print_hide\" data-hide=\"phone\" data-table=\"本行即期賣出\">19.97</td>,\n",
       " <td class=\"text-center print_hide phone-small-font\" data-table=\"遠期匯率買入/賣出\"><a href=\"/xrt/forward/NZD\">查詢</a></td>,\n",
       " <td class=\"text-center print_hide phone-small-font\" data-table=\"歷史匯率\"><a href=\"/xrt/history/NZD\" target=\"_blank\">查詢</a></td>,\n",
       " <br class=\"visible-phone print_hide\"/>,\n",
       " <div class=\"visible-phone print_hide\">\n",
       "                                 泰幣 (THB)\n",
       "                             </div>,\n",
       " <td class=\"rate-content-cash text-right print_hide\" data-table=\"本行現金買入\">0.9015</td>,\n",
       " <td class=\"rate-content-cash text-right print_hide\" data-table=\"本行現金賣出\">1.0895</td>,\n",
       " <td class=\"rate-content-sight text-right print_hide\" data-hide=\"phone\" data-table=\"本行即期買入\">1.0101</td>,\n",
       " <td class=\"rate-content-sight text-right print_hide\" data-hide=\"phone\" data-table=\"本行即期賣出\">1.0501</td>,\n",
       " <td class=\"text-center print_hide phone-small-font\" data-table=\"遠期匯率買入/賣出\"><a href=\"/xrt/forward/THB\">查詢</a></td>,\n",
       " <td class=\"text-center print_hide phone-small-font\" data-table=\"歷史匯率\"><a href=\"/xrt/history/THB\" target=\"_blank\">查詢</a></td>,\n",
       " <br class=\"visible-phone print_hide\"/>,\n",
       " <div class=\"visible-phone print_hide\">\n",
       "                                 菲國比索 (PHP)\n",
       "                             </div>,\n",
       " <td class=\"rate-content-cash text-right print_hide\" data-table=\"本行現金買入\">0.5284</td>,\n",
       " <td class=\"rate-content-cash text-right print_hide\" data-table=\"本行現金賣出\">0.6614</td>,\n",
       " <td class=\"rate-content-sight text-right print_hide\" data-hide=\"phone\" data-table=\"本行即期買入\">-</td>,\n",
       " <td class=\"rate-content-sight text-right print_hide\" data-hide=\"phone\" data-table=\"本行即期賣出\">-</td>,\n",
       " <td class=\"text-center print_hide phone-small-font\" data-table=\"遠期匯率買入/賣出\"><a href=\"/xrt/forward/PHP\">查詢</a></td>,\n",
       " <td class=\"text-center print_hide phone-small-font\" data-table=\"歷史匯率\"><a href=\"/xrt/history/PHP\" target=\"_blank\">查詢</a></td>,\n",
       " <br class=\"visible-phone print_hide\"/>,\n",
       " <div class=\"visible-phone print_hide\">\n",
       "                                 印尼幣 (IDR)\n",
       "                             </div>,\n",
       " <td class=\"rate-content-cash text-right print_hide\" data-table=\"本行現金買入\">0.00188</td>,\n",
       " <td class=\"rate-content-cash text-right print_hide\" data-table=\"本行現金賣出\">0.00258</td>,\n",
       " <td class=\"rate-content-sight text-right print_hide\" data-hide=\"phone\" data-table=\"本行即期買入\">-</td>,\n",
       " <td class=\"rate-content-sight text-right print_hide\" data-hide=\"phone\" data-table=\"本行即期賣出\">-</td>,\n",
       " <td class=\"text-center print_hide phone-small-font\" data-table=\"遠期匯率買入/賣出\"><a href=\"/xrt/forward/IDR\">查詢</a></td>,\n",
       " <td class=\"text-center print_hide phone-small-font\" data-table=\"歷史匯率\"><a href=\"/xrt/history/IDR\" target=\"_blank\">查詢</a></td>,\n",
       " <br class=\"visible-phone print_hide\"/>,\n",
       " <div class=\"visible-phone print_hide\">\n",
       "                                 歐元 (EUR)\n",
       "                             </div>,\n",
       " <td class=\"rate-content-cash text-right print_hide\" data-table=\"本行現金買入\">33.62</td>,\n",
       " <td class=\"rate-content-cash text-right print_hide\" data-table=\"本行現金賣出\">34.96</td>,\n",
       " <td class=\"rate-content-sight text-right print_hide\" data-hide=\"phone\" data-table=\"本行即期買入\">34.24</td>,\n",
       " <td class=\"rate-content-sight text-right print_hide\" data-hide=\"phone\" data-table=\"本行即期賣出\">34.64</td>,\n",
       " <td class=\"text-center print_hide phone-small-font\" data-table=\"遠期匯率買入/賣出\"><a href=\"/xrt/forward/EUR\">查詢</a></td>,\n",
       " <td class=\"text-center print_hide phone-small-font\" data-table=\"歷史匯率\"><a href=\"/xrt/history/EUR\" target=\"_blank\">查詢</a></td>,\n",
       " <br class=\"visible-phone print_hide\"/>,\n",
       " <div class=\"visible-phone print_hide\">\n",
       "                                 韓元 (KRW)\n",
       "                             </div>,\n",
       " <td class=\"rate-content-cash text-right print_hide\" data-table=\"本行現金買入\">0.02418</td>,\n",
       " <td class=\"rate-content-cash text-right print_hide\" data-table=\"本行現金賣出\">0.02808</td>,\n",
       " <td class=\"rate-content-sight text-right print_hide\" data-hide=\"phone\" data-table=\"本行即期買入\">-</td>,\n",
       " <td class=\"rate-content-sight text-right print_hide\" data-hide=\"phone\" data-table=\"本行即期賣出\">-</td>,\n",
       " <td class=\"text-center print_hide phone-small-font\" data-table=\"遠期匯率買入/賣出\"><a href=\"/xrt/forward/KRW\">查詢</a></td>,\n",
       " <td class=\"text-center print_hide phone-small-font\" data-table=\"歷史匯率\"><a href=\"/xrt/history/KRW\" target=\"_blank\">查詢</a></td>,\n",
       " <br class=\"visible-phone print_hide\"/>,\n",
       " <div class=\"visible-phone print_hide\">\n",
       "                                 越南盾 (VND)\n",
       "                             </div>,\n",
       " <td class=\"rate-content-cash text-right print_hide\" data-table=\"本行現金買入\">0.00098</td>,\n",
       " <td class=\"rate-content-cash text-right print_hide\" data-table=\"本行現金賣出\">0.00148</td>,\n",
       " <td class=\"rate-content-sight text-right print_hide\" data-hide=\"phone\" data-table=\"本行即期買入\">-</td>,\n",
       " <td class=\"rate-content-sight text-right print_hide\" data-hide=\"phone\" data-table=\"本行即期賣出\">-</td>,\n",
       " <td class=\"text-center print_hide phone-small-font\" data-table=\"遠期匯率買入/賣出\"><a href=\"/xrt/forward/VND\">查詢</a></td>,\n",
       " <td class=\"text-center print_hide phone-small-font\" data-table=\"歷史匯率\"><a href=\"/xrt/history/VND\" target=\"_blank\">查詢</a></td>,\n",
       " <br class=\"visible-phone print_hide\"/>,\n",
       " <div class=\"visible-phone print_hide\">\n",
       "                                 馬來幣 (MYR)\n",
       "                             </div>,\n",
       " <td class=\"rate-content-cash text-right print_hide\" data-table=\"本行現金買入\">6.338</td>,\n",
       " <td class=\"rate-content-cash text-right print_hide\" data-table=\"本行現金賣出\">7.982</td>,\n",
       " <td class=\"rate-content-sight text-right print_hide\" data-hide=\"phone\" data-table=\"本行即期買入\">-</td>,\n",
       " <td class=\"rate-content-sight text-right print_hide\" data-hide=\"phone\" data-table=\"本行即期賣出\">-</td>,\n",
       " <td class=\"text-center print_hide phone-small-font\" data-table=\"遠期匯率買入/賣出\"><a href=\"/xrt/forward/MYR\">查詢</a></td>,\n",
       " <td class=\"text-center print_hide phone-small-font\" data-table=\"歷史匯率\"><a href=\"/xrt/history/MYR\" target=\"_blank\">查詢</a></td>,\n",
       " <br class=\"visible-phone print_hide\"/>,\n",
       " <div class=\"visible-phone print_hide\">\n",
       "                                 人民幣 (CNY)\n",
       "                             </div>,\n",
       " <td class=\"rate-content-cash text-right print_hide\" data-table=\"本行現金買入\">4.279</td>,\n",
       " <td class=\"rate-content-cash text-right print_hide\" data-table=\"本行現金賣出\">4.441</td>,\n",
       " <td class=\"rate-content-sight text-right print_hide\" data-hide=\"phone\" data-table=\"本行即期買入\">4.351</td>,\n",
       " <td class=\"rate-content-sight text-right print_hide\" data-hide=\"phone\" data-table=\"本行即期賣出\">4.401</td>,\n",
       " <td class=\"text-center print_hide phone-small-font\" data-table=\"遠期匯率買入/賣出\"><a href=\"/xrt/forward/CNY\">查詢</a></td>,\n",
       " <td class=\"text-center print_hide phone-small-font\" data-table=\"歷史匯率\"><a href=\"/xrt/history/CNY\" target=\"_blank\">查詢</a></td>,\n",
       " <div class=\"container footer print_hide\">\n",
       " <hr style=\"border-top:1px solid #ddd\"/>\n",
       " <div class=\"box\">\n",
       " <div class=\"pull-left left\">\n",
       "                         客服中心：0800-025-168<br/>\n",
       "                         臺灣銀行版權所有 Bank Of Taiwan All Rights Reserved.\n",
       "                     </div>\n",
       " <div class=\"pull-left\">\n",
       " <a href=\"http://www.bot.com.tw/Copyright/Pages/default.aspx\" target=\"_blank\">資料開放宣告</a>  | \n",
       "                         <a href=\"http://www.bot.com.tw/Protect/Pages/default.aspx\" target=\"_blank\">隱私權宣告</a>  | \n",
       "                         <a href=\"http://www.twfhc.com.tw/security_policy.aspx\" target=\"_blank\">資訊安全政策</a>  | \n",
       "                         <a href=\"http://www.bot.com.tw/Services/pages/relatedURL.aspx\" target=\"_blank\">相關連結</a>  | \n",
       "                         <a href=\"https://www2.bot.com.tw/mailbox/mail.aspx\" target=\"_blank\">意見信箱</a><br/>\n",
       "                         地址：10007 臺北市中正區重慶南路一段 120 號\n",
       "                     </div>\n",
       " </div>\n",
       " <div class=\"clear\"></div>\n",
       " </div>]"
      ]
     },
     "execution_count": 10,
     "metadata": {},
     "output_type": "execute_result"
    }
   ],
   "source": [
    "currency"
   ]
  },
  {
   "cell_type": "markdown",
   "metadata": {},
   "source": [
    "### 各國幣換算成台幣"
   ]
  },
  {
   "cell_type": "code",
   "execution_count": 4,
   "metadata": {},
   "outputs": [
    {
     "data": {
      "application/vnd.jupyter.widget-view+json": {
       "model_id": "e8a6416973084d62a1f8acc02e21f20a",
       "version_major": 2,
       "version_minor": 0
      },
      "text/plain": [
       "interactive(children=(Text(value='', description='money'), Dropdown(description='currency', options={'USD': 30…"
      ]
     },
     "metadata": {},
     "output_type": "display_data"
    }
   ],
   "source": [
    "interact_manual(transform, money=\"\", currency={\"USD\":float(currency[14].text), \"JPY\":float(currency[70].text), \"CHY\":float(currency[158].text),\n",
    "                                              \"GBP\":float(currency[30].text),\"KRW\":float(currency[134].text),\"THB\":float(currency[102].text),\n",
    "                                              \"EUR\":float(currency[158].text)});"
   ]
  },
  {
   "cell_type": "markdown",
   "metadata": {},
   "source": [
    "### 台幣換算成各國幣"
   ]
  },
  {
   "cell_type": "code",
   "execution_count": 5,
   "metadata": {},
   "outputs": [
    {
     "data": {
      "application/vnd.jupyter.widget-view+json": {
       "model_id": "063ceced3c0b4d65a4958a271744619e",
       "version_major": 2,
       "version_minor": 0
      },
      "text/plain": [
       "interactive(children=(Text(value='', description='tw_money'), Dropdown(description='currency', options={'USD':…"
      ]
     },
     "metadata": {},
     "output_type": "display_data"
    }
   ],
   "source": [
    "interact_manual(transform2, tw_money=\"\", currency={\"USD\":float(currency[15].text), \"JPY\":float(currency[71].text), \"CHY\":float(currency[159].text),\n",
    "                                              \"GBP\":float(currency[31].text),\"KRW\":float(currency[135].text),\"THB\":float(currency[103].text),\n",
    "                                              \"EUR\":float(currency[159].text)});"
   ]
  },
  {
   "cell_type": "code",
   "execution_count": null,
   "metadata": {},
   "outputs": [],
   "source": []
  }
 ],
 "metadata": {
  "kernelspec": {
   "display_name": "Python 3",
   "language": "python",
   "name": "python3"
  },
  "language_info": {
   "codemirror_mode": {
    "name": "ipython",
    "version": 3
   },
   "file_extension": ".py",
   "mimetype": "text/x-python",
   "name": "python",
   "nbconvert_exporter": "python",
   "pygments_lexer": "ipython3",
   "version": "3.7.3"
  }
 },
 "nbformat": 4,
 "nbformat_minor": 2
}
