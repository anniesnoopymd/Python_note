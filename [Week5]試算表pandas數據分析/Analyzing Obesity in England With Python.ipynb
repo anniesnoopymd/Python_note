{
 "cells": [
  {
   "cell_type": "code",
   "execution_count": 3,
   "metadata": {},
   "outputs": [],
   "source": [
    "import pandas as pd\n",
    "import matplotlib.pyplot as plt"
   ]
  },
  {
   "cell_type": "code",
   "execution_count": 4,
   "metadata": {},
   "outputs": [],
   "source": [
    "data = pd.ExcelFile('obes-phys-acti-diet-eng-2014-tab.xls')"
   ]
  },
  {
   "cell_type": "code",
   "execution_count": 6,
   "metadata": {},
   "outputs": [
    {
     "name": "stdout",
     "output_type": "stream",
     "text": [
      "['Chapter 7', '7.1', '7.2', '7.3', '7.4', '7.5', '7.6', '7.7', '7.8', '7.9', '7.10']\n"
     ]
    }
   ],
   "source": [
    "print(data.sheet_names)"
   ]
  },
  {
   "cell_type": "markdown",
   "metadata": {},
   "source": [
    "#### Read 2nd section, by age\n",
    "skipping the top 4 rows as well as the bottom 14 (as they contain data not useful to us)"
   ]
  },
  {
   "cell_type": "code",
   "execution_count": 7,
   "metadata": {},
   "outputs": [
    {
     "name": "stdout",
     "output_type": "stream",
     "text": [
      "   Unnamed: 0    Total  Under 16  16-24   25-34   35-44   45-54   55-64  \\\n",
      "0         NaN      NaN       NaN    NaN     NaN     NaN     NaN     NaN   \n",
      "1     2002/03   1275.0     400.0   65.0   136.0   289.0   216.0    94.0   \n",
      "2     2003/04   1711.0     579.0   67.0   174.0   391.0   273.0   151.0   \n",
      "3     2004/05   2035.0     547.0  107.0   287.0   487.0   364.0   174.0   \n",
      "4     2005/06   2564.0     583.0   96.0   341.0   637.0   554.0   258.0   \n",
      "5     2006/07   3862.0     656.0  184.0   461.0  1069.0   872.0   459.0   \n",
      "6     2007/08   5018.0     747.0  228.0   564.0  1469.0  1198.0   598.0   \n",
      "7     2008/09   7988.0     775.0  322.0  1013.0  2359.0  2133.0  1099.0   \n",
      "8     2009/10  10571.0     632.0  361.0  1348.0  3132.0  3076.0  1555.0   \n",
      "9     2010/11  11574.0     525.0  375.0  1425.0  3277.0  3573.0  1820.0   \n",
      "10    2011/12  11736.0     495.0  391.0  1484.0  3104.0  3581.0  2119.0   \n",
      "11    2012/13  10957.0     556.0  356.0  1437.0  2744.0  3305.0  1965.0   \n",
      "\n",
      "    65-74  75 and over  \n",
      "0     NaN          NaN  \n",
      "1    52.0         23.0  \n",
      "2    52.0         24.0  \n",
      "3    36.0         32.0  \n",
      "4    72.0         20.0  \n",
      "5   118.0         43.0  \n",
      "6   157.0         53.0  \n",
      "7   221.0         63.0  \n",
      "8   378.0         87.0  \n",
      "9   456.0        115.0  \n",
      "10  468.0         94.0  \n",
      "11  495.0         99.0  \n"
     ]
    }
   ],
   "source": [
    "data_age = data.parse(u'7.2', skiprows=4, skipfooter=14)\n",
    "print(data_age)"
   ]
  },
  {
   "cell_type": "markdown",
   "metadata": {},
   "source": [
    "#### Rename unamed to year"
   ]
  },
  {
   "cell_type": "code",
   "execution_count": 11,
   "metadata": {},
   "outputs": [],
   "source": [
    "data_age.rename(columns={u'Unnamed: 0' : u'Year'}, inplace=True)"
   ]
  },
  {
   "cell_type": "code",
   "execution_count": 10,
   "metadata": {},
   "outputs": [
    {
     "name": "stdout",
     "output_type": "stream",
     "text": [
      "   Unnamed: 0    Total  Under 16  16-24   25-34   35-44   45-54   55-64  \\\n",
      "0         NaN      NaN       NaN    NaN     NaN     NaN     NaN     NaN   \n",
      "1     2002/03   1275.0     400.0   65.0   136.0   289.0   216.0    94.0   \n",
      "2     2003/04   1711.0     579.0   67.0   174.0   391.0   273.0   151.0   \n",
      "3     2004/05   2035.0     547.0  107.0   287.0   487.0   364.0   174.0   \n",
      "4     2005/06   2564.0     583.0   96.0   341.0   637.0   554.0   258.0   \n",
      "5     2006/07   3862.0     656.0  184.0   461.0  1069.0   872.0   459.0   \n",
      "6     2007/08   5018.0     747.0  228.0   564.0  1469.0  1198.0   598.0   \n",
      "7     2008/09   7988.0     775.0  322.0  1013.0  2359.0  2133.0  1099.0   \n",
      "8     2009/10  10571.0     632.0  361.0  1348.0  3132.0  3076.0  1555.0   \n",
      "9     2010/11  11574.0     525.0  375.0  1425.0  3277.0  3573.0  1820.0   \n",
      "10    2011/12  11736.0     495.0  391.0  1484.0  3104.0  3581.0  2119.0   \n",
      "11    2012/13  10957.0     556.0  356.0  1437.0  2744.0  3305.0  1965.0   \n",
      "\n",
      "    65-74  75 and over  \n",
      "0     NaN          NaN  \n",
      "1    52.0         23.0  \n",
      "2    52.0         24.0  \n",
      "3    36.0         32.0  \n",
      "4    72.0         20.0  \n",
      "5   118.0         43.0  \n",
      "6   157.0         53.0  \n",
      "7   221.0         63.0  \n",
      "8   378.0         87.0  \n",
      "9   456.0        115.0  \n",
      "10  468.0         94.0  \n",
      "11  495.0         99.0  \n"
     ]
    }
   ],
   "source": [
    "print(data_age)"
   ]
  },
  {
   "cell_type": "markdown",
   "metadata": {},
   "source": [
    "#### Drop empties"
   ]
  },
  {
   "cell_type": "code",
   "execution_count": 12,
   "metadata": {},
   "outputs": [],
   "source": [
    "data_age.dropna(inplace=True)"
   ]
  },
  {
   "cell_type": "code",
   "execution_count": 13,
   "metadata": {},
   "outputs": [
    {
     "name": "stdout",
     "output_type": "stream",
     "text": [
      "       Year    Total  Under 16  16-24   25-34   35-44   45-54   55-64  65-74  \\\n",
      "1   2002/03   1275.0     400.0   65.0   136.0   289.0   216.0    94.0   52.0   \n",
      "2   2003/04   1711.0     579.0   67.0   174.0   391.0   273.0   151.0   52.0   \n",
      "3   2004/05   2035.0     547.0  107.0   287.0   487.0   364.0   174.0   36.0   \n",
      "4   2005/06   2564.0     583.0   96.0   341.0   637.0   554.0   258.0   72.0   \n",
      "5   2006/07   3862.0     656.0  184.0   461.0  1069.0   872.0   459.0  118.0   \n",
      "6   2007/08   5018.0     747.0  228.0   564.0  1469.0  1198.0   598.0  157.0   \n",
      "7   2008/09   7988.0     775.0  322.0  1013.0  2359.0  2133.0  1099.0  221.0   \n",
      "8   2009/10  10571.0     632.0  361.0  1348.0  3132.0  3076.0  1555.0  378.0   \n",
      "9   2010/11  11574.0     525.0  375.0  1425.0  3277.0  3573.0  1820.0  456.0   \n",
      "10  2011/12  11736.0     495.0  391.0  1484.0  3104.0  3581.0  2119.0  468.0   \n",
      "11  2012/13  10957.0     556.0  356.0  1437.0  2744.0  3305.0  1965.0  495.0   \n",
      "\n",
      "    75 and over  \n",
      "1          23.0  \n",
      "2          24.0  \n",
      "3          32.0  \n",
      "4          20.0  \n",
      "5          43.0  \n",
      "6          53.0  \n",
      "7          63.0  \n",
      "8          87.0  \n",
      "9         115.0  \n",
      "10         94.0  \n",
      "11         99.0  \n"
     ]
    }
   ],
   "source": [
    "print(data_age)"
   ]
  },
  {
   "cell_type": "markdown",
   "metadata": {},
   "source": [
    "#### Set the index to Year"
   ]
  },
  {
   "cell_type": "code",
   "execution_count": 14,
   "metadata": {},
   "outputs": [],
   "source": [
    "data_age.set_index('Year', inplace=True)"
   ]
  },
  {
   "cell_type": "code",
   "execution_count": 15,
   "metadata": {},
   "outputs": [
    {
     "name": "stdout",
     "output_type": "stream",
     "text": [
      "           Total  Under 16  16-24   25-34   35-44   45-54   55-64  65-74  \\\n",
      "Year                                                                       \n",
      "2002/03   1275.0     400.0   65.0   136.0   289.0   216.0    94.0   52.0   \n",
      "2003/04   1711.0     579.0   67.0   174.0   391.0   273.0   151.0   52.0   \n",
      "2004/05   2035.0     547.0  107.0   287.0   487.0   364.0   174.0   36.0   \n",
      "2005/06   2564.0     583.0   96.0   341.0   637.0   554.0   258.0   72.0   \n",
      "2006/07   3862.0     656.0  184.0   461.0  1069.0   872.0   459.0  118.0   \n",
      "2007/08   5018.0     747.0  228.0   564.0  1469.0  1198.0   598.0  157.0   \n",
      "2008/09   7988.0     775.0  322.0  1013.0  2359.0  2133.0  1099.0  221.0   \n",
      "2009/10  10571.0     632.0  361.0  1348.0  3132.0  3076.0  1555.0  378.0   \n",
      "2010/11  11574.0     525.0  375.0  1425.0  3277.0  3573.0  1820.0  456.0   \n",
      "2011/12  11736.0     495.0  391.0  1484.0  3104.0  3581.0  2119.0  468.0   \n",
      "2012/13  10957.0     556.0  356.0  1437.0  2744.0  3305.0  1965.0  495.0   \n",
      "\n",
      "         75 and over  \n",
      "Year                  \n",
      "2002/03         23.0  \n",
      "2003/04         24.0  \n",
      "2004/05         32.0  \n",
      "2005/06         20.0  \n",
      "2006/07         43.0  \n",
      "2007/08         53.0  \n",
      "2008/09         63.0  \n",
      "2009/10         87.0  \n",
      "2010/11        115.0  \n",
      "2011/12         94.0  \n",
      "2012/13         99.0  \n"
     ]
    }
   ],
   "source": [
    "print(data_age)"
   ]
  },
  {
   "cell_type": "markdown",
   "metadata": {},
   "source": [
    "#### Plot the results"
   ]
  },
  {
   "cell_type": "code",
   "execution_count": 16,
   "metadata": {},
   "outputs": [
    {
     "data": {
      "text/plain": [
       "<matplotlib.axes._subplots.AxesSubplot at 0x119445b00>"
      ]
     },
     "execution_count": 16,
     "metadata": {},
     "output_type": "execute_result"
    },
    {
     "data": {
      "image/png": "[encoded data removed]",
      "text/plain": [
       "<Figure size 432x288 with 1 Axes>"
      ]
     },
     "metadata": {
      "needs_background": "light"
     },
     "output_type": "display_data"
    }
   ],
   "source": [
    "data_age.plot()"
   ]
  },
  {
   "cell_type": "code",
   "execution_count": 18,
   "metadata": {},
   "outputs": [],
   "source": [
    "plt.show()"
   ]
  },
  {
   "cell_type": "code",
   "execution_count": null,
   "metadata": {},
   "outputs": [],
   "source": []
  }
 ],
 "metadata": {
  "kernelspec": {
   "display_name": "Python 3",
   "language": "python",
   "name": "python3"
  },
  "language_info": {
   "codemirror_mode": {
    "name": "ipython",
    "version": 3
   },
   "file_extension": ".py",
   "mimetype": "text/x-python",
   "name": "python",
   "nbconvert_exporter": "python",
   "pygments_lexer": "ipython3",
   "version": "3.7.3"
  }
 },
 "nbformat": 4,
 "nbformat_minor": 2
}
