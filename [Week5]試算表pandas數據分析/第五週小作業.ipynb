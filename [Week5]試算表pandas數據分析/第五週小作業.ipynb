{
 "cells": [
  {
   "cell_type": "code",
   "execution_count": 1,
   "metadata": {},
   "outputs": [],
   "source": [
    "%matplotlib inline\n",
    "\n",
    "import numpy as np\n",
    "import matplotlib.pyplot as plt\n",
    "import pandas as pd"
   ]
  },
  {
   "cell_type": "code",
   "execution_count": 3,
   "metadata": {},
   "outputs": [],
   "source": [
    "mydata1 = np.random.rand(5,5)"
   ]
  },
  {
   "cell_type": "code",
   "execution_count": 4,
   "metadata": {},
   "outputs": [
    {
     "data": {
      "text/plain": [
       "array([[0.25877913, 0.29862134, 0.38065635, 0.84329363, 0.93077378],\n",
       "       [0.18819016, 0.09646267, 0.874905  , 0.44566045, 0.16949351],\n",
       "       [0.86397327, 0.97157257, 0.81792692, 0.24982375, 0.03509079],\n",
       "       [0.09488092, 0.51977815, 0.26458472, 0.11226015, 0.96388768],\n",
       "       [0.98373978, 0.18121802, 0.43338222, 0.67963734, 0.36401291]])"
      ]
     },
     "execution_count": 4,
     "metadata": {},
     "output_type": "execute_result"
    }
   ],
   "source": [
    "mydata1"
   ]
  },
  {
   "cell_type": "code",
   "execution_count": 5,
   "metadata": {},
   "outputs": [],
   "source": [
    "mydata2 = np.random.rand(5,5)"
   ]
  },
  {
   "cell_type": "code",
   "execution_count": 6,
   "metadata": {},
   "outputs": [
    {
     "data": {
      "text/plain": [
       "array([[0.84942203, 0.05705235, 0.40456273, 0.78351293, 0.05675803],\n",
       "       [0.69034245, 0.76488544, 0.37293917, 0.22912607, 0.93059373],\n",
       "       [0.55759634, 0.78447325, 0.45027816, 0.40338841, 0.25821527],\n",
       "       [0.44984446, 0.26506736, 0.31585884, 0.22470271, 0.06287415],\n",
       "       [0.42610873, 0.59326605, 0.69170859, 0.53372612, 0.92150331]])"
      ]
     },
     "execution_count": 6,
     "metadata": {},
     "output_type": "execute_result"
    }
   ],
   "source": [
    "mydata2"
   ]
  },
  {
   "cell_type": "code",
   "execution_count": 8,
   "metadata": {},
   "outputs": [],
   "source": [
    "m1 = pd.DataFrame(mydata1,columns=list(\"ABCDE\"))"
   ]
  },
  {
   "cell_type": "code",
   "execution_count": 9,
   "metadata": {},
   "outputs": [],
   "source": [
    "m2 = pd.DataFrame(mydata2,columns=list(\"ABCDE\"))"
   ]
  },
  {
   "cell_type": "code",
   "execution_count": 13,
   "metadata": {},
   "outputs": [],
   "source": [
    "df = pd.concat([m1,m2], axis=0)"
   ]
  },
  {
   "cell_type": "code",
   "execution_count": 14,
   "metadata": {},
   "outputs": [],
   "source": [
    "df.index = range(10)"
   ]
  },
  {
   "cell_type": "code",
   "execution_count": 15,
   "metadata": {},
   "outputs": [
    {
     "data": {
      "text/html": [
       "<div>\n",
       "<style scoped>\n",
       "    .dataframe tbody tr th:only-of-type {\n",
       "        vertical-align: middle;\n",
       "    }\n",
       "\n",
       "    .dataframe tbody tr th {\n",
       "        vertical-align: top;\n",
       "    }\n",
       "\n",
       "    .dataframe thead th {\n",
       "        text-align: right;\n",
       "    }\n",
       "</style>\n",
       "<table border=\"1\" class=\"dataframe\">\n",
       "  <thead>\n",
       "    <tr style=\"text-align: right;\">\n",
       "      <th></th>\n",
       "      <th>A</th>\n",
       "      <th>B</th>\n",
       "      <th>C</th>\n",
       "      <th>D</th>\n",
       "      <th>E</th>\n",
       "    </tr>\n",
       "  </thead>\n",
       "  <tbody>\n",
       "    <tr>\n",
       "      <th>0</th>\n",
       "      <td>0.258779</td>\n",
       "      <td>0.298621</td>\n",
       "      <td>0.380656</td>\n",
       "      <td>0.843294</td>\n",
       "      <td>0.930774</td>\n",
       "    </tr>\n",
       "    <tr>\n",
       "      <th>1</th>\n",
       "      <td>0.188190</td>\n",
       "      <td>0.096463</td>\n",
       "      <td>0.874905</td>\n",
       "      <td>0.445660</td>\n",
       "      <td>0.169494</td>\n",
       "    </tr>\n",
       "    <tr>\n",
       "      <th>2</th>\n",
       "      <td>0.863973</td>\n",
       "      <td>0.971573</td>\n",
       "      <td>0.817927</td>\n",
       "      <td>0.249824</td>\n",
       "      <td>0.035091</td>\n",
       "    </tr>\n",
       "    <tr>\n",
       "      <th>3</th>\n",
       "      <td>0.094881</td>\n",
       "      <td>0.519778</td>\n",
       "      <td>0.264585</td>\n",
       "      <td>0.112260</td>\n",
       "      <td>0.963888</td>\n",
       "    </tr>\n",
       "    <tr>\n",
       "      <th>4</th>\n",
       "      <td>0.983740</td>\n",
       "      <td>0.181218</td>\n",
       "      <td>0.433382</td>\n",
       "      <td>0.679637</td>\n",
       "      <td>0.364013</td>\n",
       "    </tr>\n",
       "    <tr>\n",
       "      <th>5</th>\n",
       "      <td>0.849422</td>\n",
       "      <td>0.057052</td>\n",
       "      <td>0.404563</td>\n",
       "      <td>0.783513</td>\n",
       "      <td>0.056758</td>\n",
       "    </tr>\n",
       "    <tr>\n",
       "      <th>6</th>\n",
       "      <td>0.690342</td>\n",
       "      <td>0.764885</td>\n",
       "      <td>0.372939</td>\n",
       "      <td>0.229126</td>\n",
       "      <td>0.930594</td>\n",
       "    </tr>\n",
       "    <tr>\n",
       "      <th>7</th>\n",
       "      <td>0.557596</td>\n",
       "      <td>0.784473</td>\n",
       "      <td>0.450278</td>\n",
       "      <td>0.403388</td>\n",
       "      <td>0.258215</td>\n",
       "    </tr>\n",
       "    <tr>\n",
       "      <th>8</th>\n",
       "      <td>0.449844</td>\n",
       "      <td>0.265067</td>\n",
       "      <td>0.315859</td>\n",
       "      <td>0.224703</td>\n",
       "      <td>0.062874</td>\n",
       "    </tr>\n",
       "    <tr>\n",
       "      <th>9</th>\n",
       "      <td>0.426109</td>\n",
       "      <td>0.593266</td>\n",
       "      <td>0.691709</td>\n",
       "      <td>0.533726</td>\n",
       "      <td>0.921503</td>\n",
       "    </tr>\n",
       "  </tbody>\n",
       "</table>\n",
       "</div>"
      ],
      "text/plain": [
       "          A         B         C         D         E\n",
       "0  0.258779  0.298621  0.380656  0.843294  0.930774\n",
       "1  0.188190  0.096463  0.874905  0.445660  0.169494\n",
       "2  0.863973  0.971573  0.817927  0.249824  0.035091\n",
       "3  0.094881  0.519778  0.264585  0.112260  0.963888\n",
       "4  0.983740  0.181218  0.433382  0.679637  0.364013\n",
       "5  0.849422  0.057052  0.404563  0.783513  0.056758\n",
       "6  0.690342  0.764885  0.372939  0.229126  0.930594\n",
       "7  0.557596  0.784473  0.450278  0.403388  0.258215\n",
       "8  0.449844  0.265067  0.315859  0.224703  0.062874\n",
       "9  0.426109  0.593266  0.691709  0.533726  0.921503"
      ]
     },
     "execution_count": 15,
     "metadata": {},
     "output_type": "execute_result"
    }
   ],
   "source": [
    "df"
   ]
  },
  {
   "cell_type": "code",
   "execution_count": 2,
   "metadata": {},
   "outputs": [],
   "source": [
    "dept = {\n",
    "\"土語系\": [2, 2, 0, 1, 0, 0, 0, 1, 1, 0],\n",
    "\"財政系\": [1, 1.5, 0, 1.5, 0, 0, 0, 0, 0, 0],\n",
    "\"金融系\": [1, 1.5, 0, 2, 0, 0, 0, 0, 0, 0],\n",
    "\"國貿系\": [1.5, 2, 0, 2, 0, 0, 0, 0, 0, 0],\n",
    "\"會計系\": [1.5, 2, 0, 2, 0, 0, 0, 1, 1, 0],\n",
    "\"法律系\": [1, 2, 0, 1, 0, 0, 0, 1, 0, 1],\n",
    "\"公行系\": [1, 1.5, 0, 1.25, 0, 0, 0, 0, 0, 1.25],\n",
    "\"應數系\": [1, 1, 1.5, 0, 1, 1, 0, 0, 0, 0],\n",
    "\"教育系\": [1.5, 2, 0, 1.25, 0, 0, 0, 1, 1, 0]\n",
    "}"
   ]
  },
  {
   "cell_type": "code",
   "execution_count": 4,
   "metadata": {},
   "outputs": [
    {
     "ename": "NameError",
     "evalue": "name '國文' is not defined",
     "output_type": "error",
     "traceback": [
      "\u001b[0;31m---------------------------------------------------------------------------\u001b[0m",
      "\u001b[0;31mNameError\u001b[0m                                 Traceback (most recent call last)",
      "\u001b[0;32m<ipython-input-4-2479a74a8b4b>\u001b[0m in \u001b[0;36m<module>\u001b[0;34m\u001b[0m\n\u001b[0;32m----> 1\u001b[0;31m \u001b[0mgrade_df\u001b[0m \u001b[0;34m=\u001b[0m \u001b[0mpd\u001b[0m\u001b[0;34m.\u001b[0m\u001b[0mDataFrame\u001b[0m\u001b[0;34m(\u001b[0m\u001b[0mdept\u001b[0m\u001b[0;34m,\u001b[0m\u001b[0mcolumns\u001b[0m\u001b[0;34m=\u001b[0m\u001b[0mlist\u001b[0m\u001b[0;34m(\u001b[0m\u001b[0m國文\u001b[0m\u001b[0;34m,\u001b[0m\u001b[0m英文\u001b[0m\u001b[0;34m,\u001b[0m\u001b[0m數甲\u001b[0m\u001b[0;34m,\u001b[0m\u001b[0m數乙\u001b[0m\u001b[0;34m,\u001b[0m\u001b[0m物理\u001b[0m\u001b[0;34m,\u001b[0m\u001b[0m化學\u001b[0m\u001b[0;34m,\u001b[0m\u001b[0m生物\u001b[0m\u001b[0;34m,\u001b[0m\u001b[0m歷史\u001b[0m\u001b[0;34m,\u001b[0m\u001b[0m地理\u001b[0m\u001b[0;34m,\u001b[0m\u001b[0m公民\u001b[0m\u001b[0;34m)\u001b[0m\u001b[0;34m)\u001b[0m\u001b[0;34m\u001b[0m\u001b[0;34m\u001b[0m\u001b[0m\n\u001b[0m",
      "\u001b[0;31mNameError\u001b[0m: name '國文' is not defined"
     ]
    }
   ],
   "source": [
    "grade_df = pd.DataFrame(dept,columns=list(國文,英文,數甲,數乙,物理,化學,生物,歷史,地理,公民))"
   ]
  },
  {
   "cell_type": "code",
   "execution_count": 25,
   "metadata": {},
   "outputs": [
    {
     "ename": "TypeError",
     "evalue": "'type' object is not subscriptable",
     "output_type": "error",
     "traceback": [
      "\u001b[0;31m---------------------------------------------------------------------------\u001b[0m",
      "\u001b[0;31mTypeError\u001b[0m                                 Traceback (most recent call last)",
      "\u001b[0;32m<ipython-input-25-abcb312bd7f6>\u001b[0m in \u001b[0;36m<module>\u001b[0;34m\u001b[0m\n\u001b[0;32m----> 1\u001b[0;31m \u001b[0mlist\u001b[0m\u001b[0;34m[\u001b[0m\u001b[0;34m\"國文英文數甲數乙物理化學生物歷史地理公民\"\u001b[0m\u001b[0;34m]\u001b[0m\u001b[0;34m\u001b[0m\u001b[0;34m\u001b[0m\u001b[0m\n\u001b[0m",
      "\u001b[0;31mTypeError\u001b[0m: 'type' object is not subscriptable"
     ]
    }
   ],
   "source": [
    "list[\"國文英文數甲數乙物理化學生物歷史地理公民\"]"
   ]
  },
  {
   "cell_type": "code",
   "execution_count": 26,
   "metadata": {},
   "outputs": [
    {
     "data": {
      "text/plain": [
       "type"
      ]
     },
     "execution_count": 26,
     "metadata": {},
     "output_type": "execute_result"
    }
   ],
   "source": [
    "type(dict)"
   ]
  },
  {
   "cell_type": "code",
   "execution_count": 31,
   "metadata": {},
   "outputs": [
    {
     "data": {
      "text/plain": [
       "['國',\n",
       " '文',\n",
       " '英',\n",
       " '文',\n",
       " '數',\n",
       " '甲',\n",
       " '數',\n",
       " '乙',\n",
       " '物',\n",
       " '理',\n",
       " '化',\n",
       " '學',\n",
       " '生',\n",
       " '物',\n",
       " '歷',\n",
       " '史',\n",
       " '地',\n",
       " '理',\n",
       " '公',\n",
       " '民']"
      ]
     },
     "execution_count": 31,
     "metadata": {},
     "output_type": "execute_result"
    }
   ],
   "source": [
    "list(\"國文英文數甲數乙物理化學生物歷史地理公民\")"
   ]
  },
  {
   "cell_type": "code",
   "execution_count": null,
   "metadata": {},
   "outputs": [],
   "source": []
  }
 ],
 "metadata": {
  "kernelspec": {
   "display_name": "Python 3",
   "language": "python",
   "name": "python3"
  },
  "language_info": {
   "codemirror_mode": {
    "name": "ipython",
    "version": 3
   },
   "file_extension": ".py",
   "mimetype": "text/x-python",
   "name": "python",
   "nbconvert_exporter": "python",
   "pygments_lexer": "ipython3",
   "version": "3.7.3"
  }
 },
 "nbformat": 4,
 "nbformat_minor": 2
}
