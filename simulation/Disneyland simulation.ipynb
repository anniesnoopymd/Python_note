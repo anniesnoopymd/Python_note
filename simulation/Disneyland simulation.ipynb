{
 "cells": [
  {
   "cell_type": "code",
   "execution_count": 1,
   "metadata": {},
   "outputs": [],
   "source": [
    "import simpy\n",
    "import random\n",
    "import statistics"
   ]
  },
  {
   "cell_type": "markdown",
   "metadata": {},
   "source": [
    "Each staff member can work as an independent server and handle each customer from the 1 beginning to the end."
   ]
  },
  {
   "cell_type": "code",
   "execution_count": 2,
   "metadata": {},
   "outputs": [],
   "source": [
    "wait_times = []"
   ]
  },
  {
   "cell_type": "code",
   "execution_count": 50,
   "metadata": {},
   "outputs": [],
   "source": [
    "#set up the environmet\n",
    "class Sharetea(object):\n",
    "    def __init__(self, env, drink_type, num_cashiers, num_servers, num_ushers):\n",
    "        self.env = env\n",
    "        self.drinktype = simpy.Resource(env, drink_type)\n",
    "        self.cashier = simpy.Resource(env, num_cashiers)\n",
    "        self.server = simpy.Resource(env, num_servers)\n",
    "        self.usher = simpy.Resource(env, num_ushers)\n",
    "        \n",
    "    #the time of ordering a drink \n",
    "    def order_drink(self,customer):\n",
    "        yield self.env.timeout(random.randint(1,3))\n",
    "    \n",
    "    def sell_food(self, customer):\n",
    "        yield self.env.timeout(random.randint(1,5))\n",
    "    \n",
    "    def check_ticket(self, customer):\n",
    "        yield self.env.timeout(3/60)"
   ]
  },
  {
   "cell_type": "code",
   "execution_count": 44,
   "metadata": {},
   "outputs": [],
   "source": [
    "def go_to_movies(env, customer, theater):\n",
    "    # customer arrives at the theater\n",
    "    arrival_time = env.now\n",
    "    \n",
    "    #waiting behavior\n",
    "    #a cashier can only help one customer at a time\n",
    "    with theater.cashier.request() as request:\n",
    "        yield request\n",
    "        yield env.process(theater.order_drink(customer))\n",
    "        \n",
    "    with theater.usher.request() as request:\n",
    "        yield request\n",
    "        yield env.process(theater.order_drink(customer))\n",
    "        \n",
    "    if random.choice([True, False]):\n",
    "        with theater.server.request() as request:\n",
    "            yield request\n",
    "            yield env.process(theater.sell_food(customer))\n",
    "            \n",
    "    #customer heads into the theater\n",
    "    wait_times.append(env.now - arrival_time)"
   ]
  },
  {
   "cell_type": "markdown",
   "metadata": {},
   "source": [
    "define a function to run the simulation"
   ]
  },
  {
   "cell_type": "code",
   "execution_count": 52,
   "metadata": {},
   "outputs": [],
   "source": [
    "def run_theater(env, num_cashiers, num_servers, num_ushers):\n",
    "    theater = Sharetea(env, num_cashiers, num_servers, num_ushers)\n",
    "    \n",
    "    #expect around 3 customer in line ready to buy tickets as soon as the box office opens\n",
    "    for customer in range(3):\n",
    "        env.process(go_to_movies(env, customer, theater))\n",
    "        \n",
    "    while True:\n",
    "        yield env.timeout(0.20)  # Wait a bit before generating a new person\n",
    "        \n",
    "        customer += 1\n",
    "        env.process(go_to_movies(env, customer, theater))\n",
    "    "
   ]
  },
  {
   "cell_type": "code",
   "execution_count": 46,
   "metadata": {},
   "outputs": [],
   "source": [
    "def get_user_input():\n",
    "    num_cashiers = input(\"Input # of cashiers working: \")\n",
    "    num_servers = input(\"Input # of servers working: \")\n",
    "    num_ushers = input(\"Input # of ushers working: \")\n",
    "    params = [num_cashiers, num_servers, num_ushers]\n",
    "    if all(str(i).isdigit() for i in params):  # Check input is valid\n",
    "        params = [int(x) for x in params]\n",
    "    else:\n",
    "        print(\n",
    "            \"Could not parse input. The simulation will use default values:\",\n",
    "            \"\\n1 cashier, 1 server, 1 usher.\",\n",
    "        )\n",
    "        params = [1, 1, 1]\n",
    "    return params"
   ]
  },
  {
   "cell_type": "code",
   "execution_count": 47,
   "metadata": {},
   "outputs": [],
   "source": [
    "def main():\n",
    "  # Setup\n",
    "  random.seed(42)\n",
    "  num_cashiers, num_servers, num_ushers = get_user_input()\n",
    "\n",
    "  # Run the simulation\n",
    "  env = simpy.Environment()\n",
    "  env.process(run_theater(env, num_cashiers, num_servers, num_ushers))\n",
    "  env.run(until=90)\n",
    "\n",
    "  # View the results\n",
    "  mins, secs = get_average_wait_time(wait_times)\n",
    "  print(\n",
    "      \"Running simulation...\",\n",
    "      f\"\\nThe average wait time is {mins} minutes and {secs} seconds.\",\n",
    "  )"
   ]
  },
  {
   "cell_type": "code",
   "execution_count": 48,
   "metadata": {},
   "outputs": [],
   "source": [
    "def get_average_wait_time(arrival_times):\n",
    "    average_wait = statistics.mean(wait_times)\n",
    "    # Pretty print the results\n",
    "    minutes, frac_minutes = divmod(average_wait, 1)\n",
    "    seconds = frac_minutes * 60\n",
    "    return round(minutes), round(seconds)"
   ]
  },
  {
   "cell_type": "code",
   "execution_count": 53,
   "metadata": {
    "scrolled": true
   },
   "outputs": [
    {
     "name": "stdout",
     "output_type": "stream",
     "text": [
      "Input # of cashiers working: 1\n",
      "Input # of servers working: 1\n",
      "Input # of ushers working: 1\n",
      "Running simulation... \n",
      "The average wait time is 44 minutes and 21 seconds.\n"
     ]
    }
   ],
   "source": [
    "if __name__ == '__main__':\n",
    "    main()"
   ]
  },
  {
   "cell_type": "code",
   "execution_count": null,
   "metadata": {},
   "outputs": [],
   "source": []
  }
 ],
 "metadata": {
  "kernelspec": {
   "display_name": "Python 3",
   "language": "python",
   "name": "python3"
  },
  "language_info": {
   "codemirror_mode": {
    "name": "ipython",
    "version": 3
   },
   "file_extension": ".py",
   "mimetype": "text/x-python",
   "name": "python",
   "nbconvert_exporter": "python",
   "pygments_lexer": "ipython3",
   "version": "3.7.3"
  }
 },
 "nbformat": 4,
 "nbformat_minor": 2
}
