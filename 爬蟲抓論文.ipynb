{
 "cells": [
  {
   "cell_type": "code",
   "execution_count": 5,
   "metadata": {},
   "outputs": [
    {
     "ename": "ModuleNotFoundError",
     "evalue": "No module named 'selenium'",
     "output_type": "error",
     "traceback": [
      "\u001b[0;31m---------------------------------------------------------------------------\u001b[0m",
      "\u001b[0;31mModuleNotFoundError\u001b[0m                       Traceback (most recent call last)",
      "\u001b[0;32m<ipython-input-5-48e6907b6399>\u001b[0m in \u001b[0;36m<module>\u001b[0;34m\u001b[0m\n\u001b[1;32m      2\u001b[0m \u001b[0;31m#encoding=utf-8\u001b[0m\u001b[0;34m\u001b[0m\u001b[0;34m\u001b[0m\u001b[0;34m\u001b[0m\u001b[0m\n\u001b[1;32m      3\u001b[0m \u001b[0m__author__\u001b[0m \u001b[0;34m=\u001b[0m \u001b[0;34m'Administrator'\u001b[0m\u001b[0;34m\u001b[0m\u001b[0;34m\u001b[0m\u001b[0m\n\u001b[0;32m----> 4\u001b[0;31m \u001b[0;32mfrom\u001b[0m \u001b[0mselenium\u001b[0m \u001b[0;32mimport\u001b[0m \u001b[0mselenium\u001b[0m\u001b[0;34m\u001b[0m\u001b[0;34m\u001b[0m\u001b[0m\n\u001b[0m\u001b[1;32m      5\u001b[0m \u001b[0;34m\u001b[0m\u001b[0m\n\u001b[1;32m      6\u001b[0m \u001b[0;32mif\u001b[0m \u001b[0m__name__\u001b[0m \u001b[0;34m==\u001b[0m \u001b[0;34m\"__main__\"\u001b[0m\u001b[0;34m:\u001b[0m\u001b[0;34m\u001b[0m\u001b[0;34m\u001b[0m\u001b[0m\n",
      "\u001b[0;31mModuleNotFoundError\u001b[0m: No module named 'selenium'"
     ]
    }
   ],
   "source": [
    "#!/usr/bin/python\n",
    "#encoding=utf-8\n",
    "__author__ = 'Administrator'\n",
    "from selenium import selenium\n",
    "\n",
    "if __name__ == \"__main__\":\n",
    "    import os\n",
    "    from selenium import webdriver\n",
    "    from selenium.webdriver.support.ui import WebDriverWait\n",
    "\n",
    "    chromedriver = \"C:\\Program Files\\Google\\Chrome\\Application\\chromedriver.exe\"\n",
    "    os.environ[\"webdriver.chrome.driver\"] = chromedriver\n",
    "    driver = webdriver.Chrome(chromedriver)\n",
    "    driver.execute_script(\"window.scrollTo(0, document.body.scrollHeight);\")\n",
    "    driver.get('google scholar')\n",
    "    inputElement = driver.find_element_by_name(\"q\")\n",
    "    searchWord=\"human robot interaction\"\n",
    "    inputElement.send_keys(searchWord)\n",
    "    inputElement.submit()\n",
    "    currentURL=driver.current_url\n",
    "    urlList=[]\n",
    "    localDir = 'down_pdf\\\\'\n",
    "    fileOut = localDir + searchWord + \".txt\"\n",
    "    import urllib, re,codecs,sys\n",
    "    fileOp = codecs.open(fileOut, 'a', sys.getdefaultencoding())\n",
    "    for i in range(0,10):#需要抓取的頁數\n",
    "        pdf_url = driver.find_elements_by_css_selector(\"a\")\n",
    "        for k in pdf_url:\n",
    "            try:\n",
    "                z= k.get_attribute(\"href\")\n",
    "                if '.pdf' in z and z not in urlList:\n",
    "                    urlList.append(z)\n",
    "                    print(z)\n",
    "            except:\n",
    "                import time\n",
    "                time.sleep(1)\n",
    "                continue\n",
    "        contents=driver.find_elements_by_css_selector('h3')\n",
    "        for ct in contents:\n",
    "            print(ct.text)\n",
    "            #fileOp.write('%s\\n' %(ct.text))#把頁面上所有的文章名稱存到txt，有時會報錯\n",
    "        driver.get(currentURL+\"&start=\"+str(i*10)+\"&as_sdt=0,5&as_ylo=2008\")\n",
    "        import time\n",
    "        time.sleep(3)\n",
    "    print(len(urlList))\n",
    "\n",
    "    for everyURL in urlList:                                  #遍歷列表的每一項，即每一個PDF的url\n",
    "            wordItems = everyURL.split('/')                   #將url以/為界進行劃分，為了提取該PDF檔名\n",
    "            for item in wordItems:                            #遍歷每個字串\n",
    "                    if re.match('.*\\.pdf$', item):            #查詢PDF的檔名\n",
    "                            PDFName = item                    #查詢到PDF檔名\n",
    "            localPDF = localDir +searchWord+\"_\"+ PDFName                   \n",
    "            try:\n",
    "                    urllib.urlretrieve(everyURL, localPDF)    #按照url進行下載，並以其檔名儲存到本地目錄\n",
    "            except e:\n",
    "                    continue"
   ]
  },
  {
   "cell_type": "code",
   "execution_count": null,
   "metadata": {},
   "outputs": [],
   "source": []
  }
 ],
 "metadata": {
  "kernelspec": {
   "display_name": "Python 3",
   "language": "python",
   "name": "python3"
  },
  "language_info": {
   "codemirror_mode": {
    "name": "ipython",
    "version": 3
   },
   "file_extension": ".py",
   "mimetype": "text/x-python",
   "name": "python",
   "nbconvert_exporter": "python",
   "pygments_lexer": "ipython3",
   "version": "3.7.3"
  }
 },
 "nbformat": 4,
 "nbformat_minor": 2
}
